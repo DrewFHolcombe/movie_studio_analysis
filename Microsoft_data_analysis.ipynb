{
 "cells": [
  {
   "cell_type": "markdown",
   "metadata": {},
   "source": [
    "![example](images/director_shot.jpeg)"
   ]
  },
  {
   "cell_type": "markdown",
   "metadata": {},
   "source": [
    "# Microsoft Data Analysis\n",
    "\n",
    "\n",
    "**Authors:** Drew Holcombe, Edward Juarez, Raul Torres\n",
    "***"
   ]
  },
  {
   "cell_type": "markdown",
   "metadata": {},
   "source": [
    "![pandas](https://avatars.githubusercontent.com/u/6154722?s=280&v=4)"
   ]
  },
  {
   "cell_type": "markdown",
   "metadata": {},
   "source": [
    "## Overview\n",
    "\n",
    "Microsoft is a well-established technology corporation most known for creating computers and software. Unlike their competitors in the technology industry (Apple, Amazon, etc.), Microsoft de=oes not currently produce original video content. If they were to compete in this medium, what factors would best contribute to their success? We sought out answers using database files from Box Office Mojo, IMDB, TheMovieDB, and The Numbers, which pointed towards certain times of year, genres, and persons associated with reliable financial success."
   ]
  },
  {
   "cell_type": "markdown",
   "metadata": {},
   "source": [
    "## Business Problem\n",
    "\n",
    "If Microsoft were to break into the film industry, what strategy would give them the best chance of success? What types of films are currently doing the best at the box office, and how can we translate this information into actionable items? How can we minimize the risk of potential films becoming box office bombs?\n",
    "These questions are important because from a business perspective it will give Microsoft and upper hand by focusing on what already works instead of spending its budget in things that are not going to have a good ROI. \n",
    "\n",
    "We decided to focus on this data because it focuses in the monetary aspect rather than popularity as other data sets show. Like any business, Microsoft is focused in creating a product that is successful for itself and the customers. \n",
    "***"
   ]
  },
  {
   "cell_type": "markdown",
   "metadata": {},
   "source": [
    "## Data Understanding\n",
    "\n",
    "First, we used data provided by The Numbers. This contains financial information for 5,782 movies, including production budget, domestic gross, and worldwide gross. It also contains their exact release date. Second, we used data from IMDB, which provided the films' genres, as well as the persons involved in their creation (e.g. writers, actors, and directors). By weighing the degree of films' financial success against these variables, we aimed to find what genres, persons, and release dates might impact the box office success of a film.***\n",
    "\n"
   ]
  },
  {
   "cell_type": "markdown",
   "metadata": {},
   "source": [
    "# Analysis of which month has the highest ROI"
   ]
  },
  {
   "cell_type": "markdown",
   "metadata": {},
   "source": [
    "We want to find if there is a correlation between when a movie is published and the ROI.\n",
    "First we are going to study our data and clean it so that we can manipulate it. "
   ]
  },
  {
   "cell_type": "code",
   "execution_count": 186,
   "metadata": {},
   "outputs": [],
   "source": [
    "# Import standard packages\n",
    "import pandas as pd\n",
    "import numpy as np\n",
    "import matplotlib.pyplot as plt\n",
    "import seaborn as sns\n",
    "import csv\n",
    "import sqlite3\n",
    "\n",
    "%matplotlib inline"
   ]
  },
  {
   "cell_type": "code",
   "execution_count": 187,
   "metadata": {},
   "outputs": [
    {
     "data": {
      "text/html": [
       "<div>\n",
       "<style scoped>\n",
       "    .dataframe tbody tr th:only-of-type {\n",
       "        vertical-align: middle;\n",
       "    }\n",
       "\n",
       "    .dataframe tbody tr th {\n",
       "        vertical-align: top;\n",
       "    }\n",
       "\n",
       "    .dataframe thead th {\n",
       "        text-align: right;\n",
       "    }\n",
       "</style>\n",
       "<table border=\"1\" class=\"dataframe\">\n",
       "  <thead>\n",
       "    <tr style=\"text-align: right;\">\n",
       "      <th></th>\n",
       "      <th>id</th>\n",
       "      <th>release_date</th>\n",
       "      <th>movie</th>\n",
       "      <th>production_budget</th>\n",
       "      <th>domestic_gross</th>\n",
       "      <th>worldwide_gross</th>\n",
       "    </tr>\n",
       "  </thead>\n",
       "  <tbody>\n",
       "    <tr>\n",
       "      <th>0</th>\n",
       "      <td>1</td>\n",
       "      <td>Dec 18, 2009</td>\n",
       "      <td>Avatar</td>\n",
       "      <td>$425,000,000</td>\n",
       "      <td>$760,507,625</td>\n",
       "      <td>$2,776,345,279</td>\n",
       "    </tr>\n",
       "    <tr>\n",
       "      <th>1</th>\n",
       "      <td>2</td>\n",
       "      <td>May 20, 2011</td>\n",
       "      <td>Pirates of the Caribbean: On Stranger Tides</td>\n",
       "      <td>$410,600,000</td>\n",
       "      <td>$241,063,875</td>\n",
       "      <td>$1,045,663,875</td>\n",
       "    </tr>\n",
       "    <tr>\n",
       "      <th>2</th>\n",
       "      <td>3</td>\n",
       "      <td>Jun 7, 2019</td>\n",
       "      <td>Dark Phoenix</td>\n",
       "      <td>$350,000,000</td>\n",
       "      <td>$42,762,350</td>\n",
       "      <td>$149,762,350</td>\n",
       "    </tr>\n",
       "    <tr>\n",
       "      <th>3</th>\n",
       "      <td>4</td>\n",
       "      <td>May 1, 2015</td>\n",
       "      <td>Avengers: Age of Ultron</td>\n",
       "      <td>$330,600,000</td>\n",
       "      <td>$459,005,868</td>\n",
       "      <td>$1,403,013,963</td>\n",
       "    </tr>\n",
       "    <tr>\n",
       "      <th>4</th>\n",
       "      <td>5</td>\n",
       "      <td>Dec 15, 2017</td>\n",
       "      <td>Star Wars Ep. VIII: The Last Jedi</td>\n",
       "      <td>$317,000,000</td>\n",
       "      <td>$620,181,382</td>\n",
       "      <td>$1,316,721,747</td>\n",
       "    </tr>\n",
       "    <tr>\n",
       "      <th>...</th>\n",
       "      <td>...</td>\n",
       "      <td>...</td>\n",
       "      <td>...</td>\n",
       "      <td>...</td>\n",
       "      <td>...</td>\n",
       "      <td>...</td>\n",
       "    </tr>\n",
       "    <tr>\n",
       "      <th>5777</th>\n",
       "      <td>78</td>\n",
       "      <td>Dec 31, 2018</td>\n",
       "      <td>Red 11</td>\n",
       "      <td>$7,000</td>\n",
       "      <td>$0</td>\n",
       "      <td>$0</td>\n",
       "    </tr>\n",
       "    <tr>\n",
       "      <th>5778</th>\n",
       "      <td>79</td>\n",
       "      <td>Apr 2, 1999</td>\n",
       "      <td>Following</td>\n",
       "      <td>$6,000</td>\n",
       "      <td>$48,482</td>\n",
       "      <td>$240,495</td>\n",
       "    </tr>\n",
       "    <tr>\n",
       "      <th>5779</th>\n",
       "      <td>80</td>\n",
       "      <td>Jul 13, 2005</td>\n",
       "      <td>Return to the Land of Wonders</td>\n",
       "      <td>$5,000</td>\n",
       "      <td>$1,338</td>\n",
       "      <td>$1,338</td>\n",
       "    </tr>\n",
       "    <tr>\n",
       "      <th>5780</th>\n",
       "      <td>81</td>\n",
       "      <td>Sep 29, 2015</td>\n",
       "      <td>A Plague So Pleasant</td>\n",
       "      <td>$1,400</td>\n",
       "      <td>$0</td>\n",
       "      <td>$0</td>\n",
       "    </tr>\n",
       "    <tr>\n",
       "      <th>5781</th>\n",
       "      <td>82</td>\n",
       "      <td>Aug 5, 2005</td>\n",
       "      <td>My Date With Drew</td>\n",
       "      <td>$1,100</td>\n",
       "      <td>$181,041</td>\n",
       "      <td>$181,041</td>\n",
       "    </tr>\n",
       "  </tbody>\n",
       "</table>\n",
       "<p>5782 rows × 6 columns</p>\n",
       "</div>"
      ],
      "text/plain": [
       "      id  release_date                                        movie  \\\n",
       "0      1  Dec 18, 2009                                       Avatar   \n",
       "1      2  May 20, 2011  Pirates of the Caribbean: On Stranger Tides   \n",
       "2      3   Jun 7, 2019                                 Dark Phoenix   \n",
       "3      4   May 1, 2015                      Avengers: Age of Ultron   \n",
       "4      5  Dec 15, 2017            Star Wars Ep. VIII: The Last Jedi   \n",
       "...   ..           ...                                          ...   \n",
       "5777  78  Dec 31, 2018                                       Red 11   \n",
       "5778  79   Apr 2, 1999                                    Following   \n",
       "5779  80  Jul 13, 2005                Return to the Land of Wonders   \n",
       "5780  81  Sep 29, 2015                         A Plague So Pleasant   \n",
       "5781  82   Aug 5, 2005                            My Date With Drew   \n",
       "\n",
       "     production_budget domestic_gross worldwide_gross  \n",
       "0         $425,000,000   $760,507,625  $2,776,345,279  \n",
       "1         $410,600,000   $241,063,875  $1,045,663,875  \n",
       "2         $350,000,000    $42,762,350    $149,762,350  \n",
       "3         $330,600,000   $459,005,868  $1,403,013,963  \n",
       "4         $317,000,000   $620,181,382  $1,316,721,747  \n",
       "...                ...            ...             ...  \n",
       "5777            $7,000             $0              $0  \n",
       "5778            $6,000        $48,482        $240,495  \n",
       "5779            $5,000         $1,338          $1,338  \n",
       "5780            $1,400             $0              $0  \n",
       "5781            $1,100       $181,041        $181,041  \n",
       "\n",
       "[5782 rows x 6 columns]"
      ]
     },
     "execution_count": 187,
     "metadata": {},
     "output_type": "execute_result"
    }
   ],
   "source": [
    "movie_budgets = pd.read_csv(\"./zippedData/tn.movie_budgets.csv.gz\")\n",
    "movie_budgets"
   ]
  },
  {
   "cell_type": "markdown",
   "metadata": {},
   "source": [
    "We check for null values first and they type.\n"
   ]
  },
  {
   "cell_type": "code",
   "execution_count": 188,
   "metadata": {},
   "outputs": [
    {
     "data": {
      "text/plain": [
       "id                   0\n",
       "release_date         0\n",
       "movie                0\n",
       "production_budget    0\n",
       "domestic_gross       0\n",
       "worldwide_gross      0\n",
       "dtype: int64"
      ]
     },
     "execution_count": 188,
     "metadata": {},
     "output_type": "execute_result"
    }
   ],
   "source": [
    "movie_budgets.isna().sum()"
   ]
  },
  {
   "cell_type": "code",
   "execution_count": 189,
   "metadata": {},
   "outputs": [
    {
     "data": {
      "text/plain": [
       "id                    int64\n",
       "release_date         object\n",
       "movie                object\n",
       "production_budget    object\n",
       "domestic_gross       object\n",
       "worldwide_gross      object\n",
       "dtype: object"
      ]
     },
     "execution_count": 189,
     "metadata": {},
     "output_type": "execute_result"
    }
   ],
   "source": [
    "movie_budgets.dtypes"
   ]
  },
  {
   "cell_type": "markdown",
   "metadata": {},
   "source": [
    "Luckly we have no nulls. But as can see the data needs to get cleaned up so that we can manipulate it. \n",
    "Here we are going to start by cleaning up the date. We want to focus on the year the movie was released. \n",
    "\n",
    "Since the type for the columns I want to use come out as object I'll change them to int."
   ]
  },
  {
   "cell_type": "code",
   "execution_count": 190,
   "metadata": {},
   "outputs": [],
   "source": [
    "def clean_money(df, money_column):\n",
    "    df[money_column] = df[money_column].str.replace(',','')\n",
    "    df[money_column] = df[money_column].str.replace('$','')\n",
    "    df[money_column] = pd.to_numeric(df[money_column])\n",
    "    return df"
   ]
  },
  {
   "cell_type": "code",
   "execution_count": 191,
   "metadata": {},
   "outputs": [],
   "source": [
    "movie_budgets = clean_money(movie_budgets, \"domestic_gross\")\n",
    "movie_budgets = clean_money(movie_budgets, \"worldwide_gross\")\n",
    "movie_budgets = clean_money(movie_budgets, \"production_budget\")"
   ]
  },
  {
   "cell_type": "code",
   "execution_count": 192,
   "metadata": {},
   "outputs": [
    {
     "data": {
      "text/html": [
       "<div>\n",
       "<style scoped>\n",
       "    .dataframe tbody tr th:only-of-type {\n",
       "        vertical-align: middle;\n",
       "    }\n",
       "\n",
       "    .dataframe tbody tr th {\n",
       "        vertical-align: top;\n",
       "    }\n",
       "\n",
       "    .dataframe thead th {\n",
       "        text-align: right;\n",
       "    }\n",
       "</style>\n",
       "<table border=\"1\" class=\"dataframe\">\n",
       "  <thead>\n",
       "    <tr style=\"text-align: right;\">\n",
       "      <th></th>\n",
       "      <th>id</th>\n",
       "      <th>release_date</th>\n",
       "      <th>movie</th>\n",
       "      <th>production_budget</th>\n",
       "      <th>domestic_gross</th>\n",
       "      <th>worldwide_gross</th>\n",
       "    </tr>\n",
       "  </thead>\n",
       "  <tbody>\n",
       "    <tr>\n",
       "      <th>0</th>\n",
       "      <td>1</td>\n",
       "      <td>Dec</td>\n",
       "      <td>Avatar</td>\n",
       "      <td>425000000</td>\n",
       "      <td>760507625</td>\n",
       "      <td>2776345279</td>\n",
       "    </tr>\n",
       "    <tr>\n",
       "      <th>1</th>\n",
       "      <td>2</td>\n",
       "      <td>May</td>\n",
       "      <td>Pirates of the Caribbean: On Stranger Tides</td>\n",
       "      <td>410600000</td>\n",
       "      <td>241063875</td>\n",
       "      <td>1045663875</td>\n",
       "    </tr>\n",
       "    <tr>\n",
       "      <th>2</th>\n",
       "      <td>3</td>\n",
       "      <td>Jun</td>\n",
       "      <td>Dark Phoenix</td>\n",
       "      <td>350000000</td>\n",
       "      <td>42762350</td>\n",
       "      <td>149762350</td>\n",
       "    </tr>\n",
       "    <tr>\n",
       "      <th>3</th>\n",
       "      <td>4</td>\n",
       "      <td>May</td>\n",
       "      <td>Avengers: Age of Ultron</td>\n",
       "      <td>330600000</td>\n",
       "      <td>459005868</td>\n",
       "      <td>1403013963</td>\n",
       "    </tr>\n",
       "    <tr>\n",
       "      <th>4</th>\n",
       "      <td>5</td>\n",
       "      <td>Dec</td>\n",
       "      <td>Star Wars Ep. VIII: The Last Jedi</td>\n",
       "      <td>317000000</td>\n",
       "      <td>620181382</td>\n",
       "      <td>1316721747</td>\n",
       "    </tr>\n",
       "    <tr>\n",
       "      <th>...</th>\n",
       "      <td>...</td>\n",
       "      <td>...</td>\n",
       "      <td>...</td>\n",
       "      <td>...</td>\n",
       "      <td>...</td>\n",
       "      <td>...</td>\n",
       "    </tr>\n",
       "    <tr>\n",
       "      <th>5777</th>\n",
       "      <td>78</td>\n",
       "      <td>Dec</td>\n",
       "      <td>Red 11</td>\n",
       "      <td>7000</td>\n",
       "      <td>0</td>\n",
       "      <td>0</td>\n",
       "    </tr>\n",
       "    <tr>\n",
       "      <th>5778</th>\n",
       "      <td>79</td>\n",
       "      <td>Apr</td>\n",
       "      <td>Following</td>\n",
       "      <td>6000</td>\n",
       "      <td>48482</td>\n",
       "      <td>240495</td>\n",
       "    </tr>\n",
       "    <tr>\n",
       "      <th>5779</th>\n",
       "      <td>80</td>\n",
       "      <td>Jul</td>\n",
       "      <td>Return to the Land of Wonders</td>\n",
       "      <td>5000</td>\n",
       "      <td>1338</td>\n",
       "      <td>1338</td>\n",
       "    </tr>\n",
       "    <tr>\n",
       "      <th>5780</th>\n",
       "      <td>81</td>\n",
       "      <td>Sep</td>\n",
       "      <td>A Plague So Pleasant</td>\n",
       "      <td>1400</td>\n",
       "      <td>0</td>\n",
       "      <td>0</td>\n",
       "    </tr>\n",
       "    <tr>\n",
       "      <th>5781</th>\n",
       "      <td>82</td>\n",
       "      <td>Aug</td>\n",
       "      <td>My Date With Drew</td>\n",
       "      <td>1100</td>\n",
       "      <td>181041</td>\n",
       "      <td>181041</td>\n",
       "    </tr>\n",
       "  </tbody>\n",
       "</table>\n",
       "<p>5782 rows × 6 columns</p>\n",
       "</div>"
      ],
      "text/plain": [
       "      id release_date                                        movie  \\\n",
       "0      1          Dec                                       Avatar   \n",
       "1      2          May  Pirates of the Caribbean: On Stranger Tides   \n",
       "2      3          Jun                                 Dark Phoenix   \n",
       "3      4          May                      Avengers: Age of Ultron   \n",
       "4      5          Dec            Star Wars Ep. VIII: The Last Jedi   \n",
       "...   ..          ...                                          ...   \n",
       "5777  78          Dec                                       Red 11   \n",
       "5778  79          Apr                                    Following   \n",
       "5779  80          Jul                Return to the Land of Wonders   \n",
       "5780  81          Sep                         A Plague So Pleasant   \n",
       "5781  82          Aug                            My Date With Drew   \n",
       "\n",
       "      production_budget  domestic_gross  worldwide_gross  \n",
       "0             425000000       760507625       2776345279  \n",
       "1             410600000       241063875       1045663875  \n",
       "2             350000000        42762350        149762350  \n",
       "3             330600000       459005868       1403013963  \n",
       "4             317000000       620181382       1316721747  \n",
       "...                 ...             ...              ...  \n",
       "5777               7000               0                0  \n",
       "5778               6000           48482           240495  \n",
       "5779               5000            1338             1338  \n",
       "5780               1400               0                0  \n",
       "5781               1100          181041           181041  \n",
       "\n",
       "[5782 rows x 6 columns]"
      ]
     },
     "execution_count": 192,
     "metadata": {},
     "output_type": "execute_result"
    }
   ],
   "source": [
    "movie_budgets['release_date'] = (movie_budgets['release_date'].map(lambda x: x[0:3]))\n",
    "movie_budgets"
   ]
  },
  {
   "cell_type": "markdown",
   "metadata": {},
   "source": [
    "We are going to hard code in order to make the months into numbers"
   ]
  },
  {
   "cell_type": "code",
   "execution_count": 193,
   "metadata": {},
   "outputs": [
    {
     "data": {
      "text/html": [
       "<div>\n",
       "<style scoped>\n",
       "    .dataframe tbody tr th:only-of-type {\n",
       "        vertical-align: middle;\n",
       "    }\n",
       "\n",
       "    .dataframe tbody tr th {\n",
       "        vertical-align: top;\n",
       "    }\n",
       "\n",
       "    .dataframe thead th {\n",
       "        text-align: right;\n",
       "    }\n",
       "</style>\n",
       "<table border=\"1\" class=\"dataframe\">\n",
       "  <thead>\n",
       "    <tr style=\"text-align: right;\">\n",
       "      <th></th>\n",
       "      <th>id</th>\n",
       "      <th>release_date</th>\n",
       "      <th>movie</th>\n",
       "      <th>production_budget</th>\n",
       "      <th>domestic_gross</th>\n",
       "      <th>worldwide_gross</th>\n",
       "    </tr>\n",
       "  </thead>\n",
       "  <tbody>\n",
       "    <tr>\n",
       "      <th>0</th>\n",
       "      <td>1</td>\n",
       "      <td>12</td>\n",
       "      <td>Avatar</td>\n",
       "      <td>425000000</td>\n",
       "      <td>760507625</td>\n",
       "      <td>2776345279</td>\n",
       "    </tr>\n",
       "    <tr>\n",
       "      <th>1</th>\n",
       "      <td>2</td>\n",
       "      <td>5</td>\n",
       "      <td>Pirates of the Caribbean: On Stranger Tides</td>\n",
       "      <td>410600000</td>\n",
       "      <td>241063875</td>\n",
       "      <td>1045663875</td>\n",
       "    </tr>\n",
       "    <tr>\n",
       "      <th>2</th>\n",
       "      <td>3</td>\n",
       "      <td>6</td>\n",
       "      <td>Dark Phoenix</td>\n",
       "      <td>350000000</td>\n",
       "      <td>42762350</td>\n",
       "      <td>149762350</td>\n",
       "    </tr>\n",
       "    <tr>\n",
       "      <th>3</th>\n",
       "      <td>4</td>\n",
       "      <td>5</td>\n",
       "      <td>Avengers: Age of Ultron</td>\n",
       "      <td>330600000</td>\n",
       "      <td>459005868</td>\n",
       "      <td>1403013963</td>\n",
       "    </tr>\n",
       "    <tr>\n",
       "      <th>4</th>\n",
       "      <td>5</td>\n",
       "      <td>12</td>\n",
       "      <td>Star Wars Ep. VIII: The Last Jedi</td>\n",
       "      <td>317000000</td>\n",
       "      <td>620181382</td>\n",
       "      <td>1316721747</td>\n",
       "    </tr>\n",
       "    <tr>\n",
       "      <th>...</th>\n",
       "      <td>...</td>\n",
       "      <td>...</td>\n",
       "      <td>...</td>\n",
       "      <td>...</td>\n",
       "      <td>...</td>\n",
       "      <td>...</td>\n",
       "    </tr>\n",
       "    <tr>\n",
       "      <th>5777</th>\n",
       "      <td>78</td>\n",
       "      <td>12</td>\n",
       "      <td>Red 11</td>\n",
       "      <td>7000</td>\n",
       "      <td>0</td>\n",
       "      <td>0</td>\n",
       "    </tr>\n",
       "    <tr>\n",
       "      <th>5778</th>\n",
       "      <td>79</td>\n",
       "      <td>4</td>\n",
       "      <td>Following</td>\n",
       "      <td>6000</td>\n",
       "      <td>48482</td>\n",
       "      <td>240495</td>\n",
       "    </tr>\n",
       "    <tr>\n",
       "      <th>5779</th>\n",
       "      <td>80</td>\n",
       "      <td>7</td>\n",
       "      <td>Return to the Land of Wonders</td>\n",
       "      <td>5000</td>\n",
       "      <td>1338</td>\n",
       "      <td>1338</td>\n",
       "    </tr>\n",
       "    <tr>\n",
       "      <th>5780</th>\n",
       "      <td>81</td>\n",
       "      <td>9</td>\n",
       "      <td>A Plague So Pleasant</td>\n",
       "      <td>1400</td>\n",
       "      <td>0</td>\n",
       "      <td>0</td>\n",
       "    </tr>\n",
       "    <tr>\n",
       "      <th>5781</th>\n",
       "      <td>82</td>\n",
       "      <td>8</td>\n",
       "      <td>My Date With Drew</td>\n",
       "      <td>1100</td>\n",
       "      <td>181041</td>\n",
       "      <td>181041</td>\n",
       "    </tr>\n",
       "  </tbody>\n",
       "</table>\n",
       "<p>5782 rows × 6 columns</p>\n",
       "</div>"
      ],
      "text/plain": [
       "      id release_date                                        movie  \\\n",
       "0      1           12                                       Avatar   \n",
       "1      2            5  Pirates of the Caribbean: On Stranger Tides   \n",
       "2      3            6                                 Dark Phoenix   \n",
       "3      4            5                      Avengers: Age of Ultron   \n",
       "4      5           12            Star Wars Ep. VIII: The Last Jedi   \n",
       "...   ..          ...                                          ...   \n",
       "5777  78           12                                       Red 11   \n",
       "5778  79            4                                    Following   \n",
       "5779  80            7                Return to the Land of Wonders   \n",
       "5780  81            9                         A Plague So Pleasant   \n",
       "5781  82            8                            My Date With Drew   \n",
       "\n",
       "      production_budget  domestic_gross  worldwide_gross  \n",
       "0             425000000       760507625       2776345279  \n",
       "1             410600000       241063875       1045663875  \n",
       "2             350000000        42762350        149762350  \n",
       "3             330600000       459005868       1403013963  \n",
       "4             317000000       620181382       1316721747  \n",
       "...                 ...             ...              ...  \n",
       "5777               7000               0                0  \n",
       "5778               6000           48482           240495  \n",
       "5779               5000            1338             1338  \n",
       "5780               1400               0                0  \n",
       "5781               1100          181041           181041  \n",
       "\n",
       "[5782 rows x 6 columns]"
      ]
     },
     "execution_count": 193,
     "metadata": {},
     "output_type": "execute_result"
    }
   ],
   "source": [
    "movie_budgets['release_date'] = movie_budgets['release_date'].str.replace('Jan','1')\n",
    "movie_budgets['release_date'] = movie_budgets['release_date'].str.replace('Feb','2')\n",
    "movie_budgets['release_date'] = movie_budgets['release_date'].str.replace('Mar','3')\n",
    "movie_budgets['release_date'] = movie_budgets['release_date'].str.replace('Apr','4')\n",
    "movie_budgets['release_date'] = movie_budgets['release_date'].str.replace('May','5')\n",
    "movie_budgets['release_date'] = movie_budgets['release_date'].str.replace('Jun','6')\n",
    "movie_budgets['release_date'] = movie_budgets['release_date'].str.replace('Jul','7')\n",
    "movie_budgets['release_date'] = movie_budgets['release_date'].str.replace('Aug','8')\n",
    "movie_budgets['release_date'] = movie_budgets['release_date'].str.replace('Sep','9')\n",
    "movie_budgets['release_date'] = movie_budgets['release_date'].str.replace('Oct','10')\n",
    "movie_budgets['release_date'] = movie_budgets['release_date'].str.replace('Nov','11')\n",
    "movie_budgets['release_date'] = movie_budgets['release_date'].str.replace('Dec','12')\n",
    "movie_budgets"
   ]
  },
  {
   "cell_type": "code",
   "execution_count": 194,
   "metadata": {},
   "outputs": [
    {
     "data": {
      "text/html": [
       "<div>\n",
       "<style scoped>\n",
       "    .dataframe tbody tr th:only-of-type {\n",
       "        vertical-align: middle;\n",
       "    }\n",
       "\n",
       "    .dataframe tbody tr th {\n",
       "        vertical-align: top;\n",
       "    }\n",
       "\n",
       "    .dataframe thead th {\n",
       "        text-align: right;\n",
       "    }\n",
       "</style>\n",
       "<table border=\"1\" class=\"dataframe\">\n",
       "  <thead>\n",
       "    <tr style=\"text-align: right;\">\n",
       "      <th></th>\n",
       "      <th>id</th>\n",
       "      <th>release_date</th>\n",
       "      <th>movie</th>\n",
       "      <th>production_budget</th>\n",
       "      <th>domestic_gross</th>\n",
       "      <th>worldwide_gross</th>\n",
       "    </tr>\n",
       "  </thead>\n",
       "  <tbody>\n",
       "    <tr>\n",
       "      <th>0</th>\n",
       "      <td>1</td>\n",
       "      <td>12</td>\n",
       "      <td>Avatar</td>\n",
       "      <td>425000000</td>\n",
       "      <td>760507625</td>\n",
       "      <td>2776345279</td>\n",
       "    </tr>\n",
       "    <tr>\n",
       "      <th>1</th>\n",
       "      <td>2</td>\n",
       "      <td>5</td>\n",
       "      <td>Pirates of the Caribbean: On Stranger Tides</td>\n",
       "      <td>410600000</td>\n",
       "      <td>241063875</td>\n",
       "      <td>1045663875</td>\n",
       "    </tr>\n",
       "    <tr>\n",
       "      <th>2</th>\n",
       "      <td>3</td>\n",
       "      <td>6</td>\n",
       "      <td>Dark Phoenix</td>\n",
       "      <td>350000000</td>\n",
       "      <td>42762350</td>\n",
       "      <td>149762350</td>\n",
       "    </tr>\n",
       "    <tr>\n",
       "      <th>3</th>\n",
       "      <td>4</td>\n",
       "      <td>5</td>\n",
       "      <td>Avengers: Age of Ultron</td>\n",
       "      <td>330600000</td>\n",
       "      <td>459005868</td>\n",
       "      <td>1403013963</td>\n",
       "    </tr>\n",
       "    <tr>\n",
       "      <th>4</th>\n",
       "      <td>5</td>\n",
       "      <td>12</td>\n",
       "      <td>Star Wars Ep. VIII: The Last Jedi</td>\n",
       "      <td>317000000</td>\n",
       "      <td>620181382</td>\n",
       "      <td>1316721747</td>\n",
       "    </tr>\n",
       "    <tr>\n",
       "      <th>...</th>\n",
       "      <td>...</td>\n",
       "      <td>...</td>\n",
       "      <td>...</td>\n",
       "      <td>...</td>\n",
       "      <td>...</td>\n",
       "      <td>...</td>\n",
       "    </tr>\n",
       "    <tr>\n",
       "      <th>5777</th>\n",
       "      <td>78</td>\n",
       "      <td>12</td>\n",
       "      <td>Red 11</td>\n",
       "      <td>7000</td>\n",
       "      <td>0</td>\n",
       "      <td>0</td>\n",
       "    </tr>\n",
       "    <tr>\n",
       "      <th>5778</th>\n",
       "      <td>79</td>\n",
       "      <td>4</td>\n",
       "      <td>Following</td>\n",
       "      <td>6000</td>\n",
       "      <td>48482</td>\n",
       "      <td>240495</td>\n",
       "    </tr>\n",
       "    <tr>\n",
       "      <th>5779</th>\n",
       "      <td>80</td>\n",
       "      <td>7</td>\n",
       "      <td>Return to the Land of Wonders</td>\n",
       "      <td>5000</td>\n",
       "      <td>1338</td>\n",
       "      <td>1338</td>\n",
       "    </tr>\n",
       "    <tr>\n",
       "      <th>5780</th>\n",
       "      <td>81</td>\n",
       "      <td>9</td>\n",
       "      <td>A Plague So Pleasant</td>\n",
       "      <td>1400</td>\n",
       "      <td>0</td>\n",
       "      <td>0</td>\n",
       "    </tr>\n",
       "    <tr>\n",
       "      <th>5781</th>\n",
       "      <td>82</td>\n",
       "      <td>8</td>\n",
       "      <td>My Date With Drew</td>\n",
       "      <td>1100</td>\n",
       "      <td>181041</td>\n",
       "      <td>181041</td>\n",
       "    </tr>\n",
       "  </tbody>\n",
       "</table>\n",
       "<p>5782 rows × 6 columns</p>\n",
       "</div>"
      ],
      "text/plain": [
       "      id  release_date                                        movie  \\\n",
       "0      1            12                                       Avatar   \n",
       "1      2             5  Pirates of the Caribbean: On Stranger Tides   \n",
       "2      3             6                                 Dark Phoenix   \n",
       "3      4             5                      Avengers: Age of Ultron   \n",
       "4      5            12            Star Wars Ep. VIII: The Last Jedi   \n",
       "...   ..           ...                                          ...   \n",
       "5777  78            12                                       Red 11   \n",
       "5778  79             4                                    Following   \n",
       "5779  80             7                Return to the Land of Wonders   \n",
       "5780  81             9                         A Plague So Pleasant   \n",
       "5781  82             8                            My Date With Drew   \n",
       "\n",
       "      production_budget  domestic_gross  worldwide_gross  \n",
       "0             425000000       760507625       2776345279  \n",
       "1             410600000       241063875       1045663875  \n",
       "2             350000000        42762350        149762350  \n",
       "3             330600000       459005868       1403013963  \n",
       "4             317000000       620181382       1316721747  \n",
       "...                 ...             ...              ...  \n",
       "5777               7000               0                0  \n",
       "5778               6000           48482           240495  \n",
       "5779               5000            1338             1338  \n",
       "5780               1400               0                0  \n",
       "5781               1100          181041           181041  \n",
       "\n",
       "[5782 rows x 6 columns]"
      ]
     },
     "execution_count": 194,
     "metadata": {},
     "output_type": "execute_result"
    }
   ],
   "source": [
    "movie_budgets = movie_budgets.astype({'release_date': 'int'})\n",
    "movie_budgets"
   ]
  },
  {
   "cell_type": "markdown",
   "metadata": {},
   "source": [
    "\n",
    "#### Making ROI column\n",
    "\n"
   ]
  },
  {
   "cell_type": "markdown",
   "metadata": {},
   "source": [
    "We are going to make ROI column. We are going to use \"world_wide_gross\" because it includes \"domestic_gross\"\n",
    "We are doing a division and substracting 1 becasue we want to see ROI as a percentage. \n"
   ]
  },
  {
   "cell_type": "code",
   "execution_count": 195,
   "metadata": {},
   "outputs": [
    {
     "data": {
      "text/html": [
       "<div>\n",
       "<style scoped>\n",
       "    .dataframe tbody tr th:only-of-type {\n",
       "        vertical-align: middle;\n",
       "    }\n",
       "\n",
       "    .dataframe tbody tr th {\n",
       "        vertical-align: top;\n",
       "    }\n",
       "\n",
       "    .dataframe thead th {\n",
       "        text-align: right;\n",
       "    }\n",
       "</style>\n",
       "<table border=\"1\" class=\"dataframe\">\n",
       "  <thead>\n",
       "    <tr style=\"text-align: right;\">\n",
       "      <th></th>\n",
       "      <th>id</th>\n",
       "      <th>release_date</th>\n",
       "      <th>movie</th>\n",
       "      <th>production_budget</th>\n",
       "      <th>domestic_gross</th>\n",
       "      <th>worldwide_gross</th>\n",
       "      <th>ROI</th>\n",
       "    </tr>\n",
       "  </thead>\n",
       "  <tbody>\n",
       "    <tr>\n",
       "      <th>0</th>\n",
       "      <td>1</td>\n",
       "      <td>12</td>\n",
       "      <td>Avatar</td>\n",
       "      <td>425000000</td>\n",
       "      <td>760507625</td>\n",
       "      <td>2776345279</td>\n",
       "      <td>5.532577</td>\n",
       "    </tr>\n",
       "    <tr>\n",
       "      <th>1</th>\n",
       "      <td>2</td>\n",
       "      <td>5</td>\n",
       "      <td>Pirates of the Caribbean: On Stranger Tides</td>\n",
       "      <td>410600000</td>\n",
       "      <td>241063875</td>\n",
       "      <td>1045663875</td>\n",
       "      <td>1.546673</td>\n",
       "    </tr>\n",
       "    <tr>\n",
       "      <th>2</th>\n",
       "      <td>3</td>\n",
       "      <td>6</td>\n",
       "      <td>Dark Phoenix</td>\n",
       "      <td>350000000</td>\n",
       "      <td>42762350</td>\n",
       "      <td>149762350</td>\n",
       "      <td>-0.572108</td>\n",
       "    </tr>\n",
       "    <tr>\n",
       "      <th>3</th>\n",
       "      <td>4</td>\n",
       "      <td>5</td>\n",
       "      <td>Avengers: Age of Ultron</td>\n",
       "      <td>330600000</td>\n",
       "      <td>459005868</td>\n",
       "      <td>1403013963</td>\n",
       "      <td>3.243841</td>\n",
       "    </tr>\n",
       "    <tr>\n",
       "      <th>4</th>\n",
       "      <td>5</td>\n",
       "      <td>12</td>\n",
       "      <td>Star Wars Ep. VIII: The Last Jedi</td>\n",
       "      <td>317000000</td>\n",
       "      <td>620181382</td>\n",
       "      <td>1316721747</td>\n",
       "      <td>3.153696</td>\n",
       "    </tr>\n",
       "  </tbody>\n",
       "</table>\n",
       "</div>"
      ],
      "text/plain": [
       "   id  release_date                                        movie  \\\n",
       "0   1            12                                       Avatar   \n",
       "1   2             5  Pirates of the Caribbean: On Stranger Tides   \n",
       "2   3             6                                 Dark Phoenix   \n",
       "3   4             5                      Avengers: Age of Ultron   \n",
       "4   5            12            Star Wars Ep. VIII: The Last Jedi   \n",
       "\n",
       "   production_budget  domestic_gross  worldwide_gross       ROI  \n",
       "0          425000000       760507625       2776345279  5.532577  \n",
       "1          410600000       241063875       1045663875  1.546673  \n",
       "2          350000000        42762350        149762350 -0.572108  \n",
       "3          330600000       459005868       1403013963  3.243841  \n",
       "4          317000000       620181382       1316721747  3.153696  "
      ]
     },
     "execution_count": 195,
     "metadata": {},
     "output_type": "execute_result"
    }
   ],
   "source": [
    "movie_budgets['ROI'] = movie_budgets['worldwide_gross'] / movie_budgets['production_budget'] - 1\n",
    "movie_budgets.head()"
   ]
  },
  {
   "cell_type": "markdown",
   "metadata": {},
   "source": [
    "Now that we have that we are going to get the median because it is less likely to get affected by outliers."
   ]
  },
  {
   "cell_type": "code",
   "execution_count": 196,
   "metadata": {},
   "outputs": [
    {
     "data": {
      "text/plain": [
       "release_date\n",
       "1     0.512054\n",
       "2     0.740280\n",
       "3     0.531329\n",
       "4     0.399866\n",
       "5     1.075749\n",
       "6     1.252110\n",
       "7     1.244067\n",
       "8     0.682874\n",
       "9     0.300893\n",
       "10    0.441032\n",
       "11    1.168355\n",
       "12    0.628805\n",
       "Name: ROI, dtype: float64"
      ]
     },
     "execution_count": 196,
     "metadata": {},
     "output_type": "execute_result"
    }
   ],
   "source": [
    "mean_roi_all_year = movie_budgets.groupby(['release_date'])['ROI'].median()\n",
    "mean_roi_all_year"
   ]
  },
  {
   "cell_type": "code",
   "execution_count": 197,
   "metadata": {},
   "outputs": [
    {
     "data": {
      "image/png": "[encoded data removed]",
      "text/plain": [
       "<Figure size 1152x792 with 1 Axes>"
      ]
     },
     "metadata": {
      "needs_background": "light"
     },
     "output_type": "display_data"
    }
   ],
   "source": [
    "fig, ax = plt.subplots(figsize=(16, 11))\n",
    "height = [0.512054, 0.740280, 0.531329, 0.399866, 1.075749, 1.252110, 1.244067, 0.682874, 0.300893, 0.441032, 1.168355, 0.628805]\n",
    "\n",
    "bars = ('Jan', 'Feb', 'Mar', 'Apr', 'May', 'Jun', 'Jul', 'Aug', 'Sep', 'Oct', 'Nov', 'Dec')\n",
    "y_pos = np.arange(len(bars))\n",
    "\n",
    "# Create bars\n",
    "plt.bar(y_pos, height, color=('darkgrey', 'darkgrey', 'darkgrey', 'darkgrey', 'darkgreen', 'darkgreen', \n",
    "                              'darkgreen', 'darkgrey', 'darkgrey', 'darkgrey', 'darkgreen', 'darkgrey'))\n",
    "\n",
    "\n",
    "# Create names on the x-axis\n",
    "plt.xticks(y_pos, bars)\n",
    "\n",
    "# Label x, y and title\n",
    "ax.set_title('Average ROI for every month')\n",
    "ax.set_ylabel('ROI %')\n",
    "ax.set_xlabel('Months of the year')\n",
    "\n",
    "# Show graphic\n",
    "plt.show()"
   ]
  },
  {
   "cell_type": "markdown",
   "metadata": {},
   "source": [
    "Based on a sample data for movies that have been released over the last two decades we found the best time to release a movie.  \n",
    "\n",
    "As the graph shows, May Jun and July are the months that show the highest return on investment surpassing 100% \n",
    "\n",
    "On the other hand, the least favorable month to release a movie is during April, September and October. Bringing in less than 40% ROI. \n",
    "\n",
    "I also want to point out November. \n",
    "Although it might seem like another month that could be good to release a movie because of the high ROI. We believe that the reason for that is because it approaches the end of the year and studios want to release movies before the deadline for film festivals. \n",
    "\n"
   ]
  },
  {
   "cell_type": "markdown",
   "metadata": {},
   "source": [
    "# Analysis of which genre has the highest ROI"
   ]
  },
  {
   "cell_type": "code",
   "execution_count": 198,
   "metadata": {},
   "outputs": [],
   "source": [
    "con = sqlite3.connect(\"./zippedData/im.db\")\n",
    "cursor = con.cursor()"
   ]
  },
  {
   "cell_type": "code",
   "execution_count": 199,
   "metadata": {},
   "outputs": [],
   "source": [
    "movie_basics = pd.read_sql(\"\"\"\n",
    "\n",
    "SELECT *\n",
    "FROM movie_basics\n",
    "\"\"\", con).drop_duplicates(subset = ['movie_id'])"
   ]
  },
  {
   "cell_type": "code",
   "execution_count": 200,
   "metadata": {},
   "outputs": [],
   "source": [
    "merge_ds = movie_budgets.merge(movie_basics,left_on='movie',right_on='primary_title',how='inner')\n",
    "\n",
    "merge_ds['profit'] = merge_ds['worldwide_gross'] - merge_ds['production_budget']\n",
    "merge_ds['ROI'] = merge_ds['profit'] / merge_ds['production_budget']* 100\n",
    "merge_ds['Profit Margin'] = merge_ds['profit'] / merge_ds['worldwide_gross'] * 100"
   ]
  },
  {
   "cell_type": "code",
   "execution_count": 201,
   "metadata": {},
   "outputs": [],
   "source": [
    "#deleting col to start narrowing down data to view value\n",
    "\n",
    "deleted_columns = ['id', 'movie_id', 'primary_title', 'original_title', \n",
    "                  'start_year', 'runtime_minutes']\n",
    "merge_ds.drop(columns=deleted_columns, inplace=True)\n"
   ]
  },
  {
   "cell_type": "code",
   "execution_count": 202,
   "metadata": {},
   "outputs": [
    {
     "name": "stdout",
     "output_type": "stream",
     "text": [
      "32.031595986485165\n"
     ]
    },
    {
     "data": {
      "text/html": [
       "<div>\n",
       "<style scoped>\n",
       "    .dataframe tbody tr th:only-of-type {\n",
       "        vertical-align: middle;\n",
       "    }\n",
       "\n",
       "    .dataframe tbody tr th {\n",
       "        vertical-align: top;\n",
       "    }\n",
       "\n",
       "    .dataframe thead th {\n",
       "        text-align: right;\n",
       "    }\n",
       "</style>\n",
       "<table border=\"1\" class=\"dataframe\">\n",
       "  <thead>\n",
       "    <tr style=\"text-align: right;\">\n",
       "      <th></th>\n",
       "      <th>Genre</th>\n",
       "      <th>Median Profit Margin</th>\n",
       "      <th>Median Budget</th>\n",
       "      <th>Median ROI</th>\n",
       "      <th>Number of Films</th>\n",
       "    </tr>\n",
       "  </thead>\n",
       "  <tbody>\n",
       "    <tr>\n",
       "      <th>7</th>\n",
       "      <td>Animation</td>\n",
       "      <td>64.200283</td>\n",
       "      <td>74500000</td>\n",
       "      <td>179.331814</td>\n",
       "      <td>148</td>\n",
       "    </tr>\n",
       "    <tr>\n",
       "      <th>9</th>\n",
       "      <td>Adventure</td>\n",
       "      <td>56.391856</td>\n",
       "      <td>73621553</td>\n",
       "      <td>129.316965</td>\n",
       "      <td>490</td>\n",
       "    </tr>\n",
       "    <tr>\n",
       "      <th>5</th>\n",
       "      <td>Sci-Fi</td>\n",
       "      <td>53.771616</td>\n",
       "      <td>30000000</td>\n",
       "      <td>116.317319</td>\n",
       "      <td>229</td>\n",
       "    </tr>\n",
       "    <tr>\n",
       "      <th>8</th>\n",
       "      <td>Fantasy</td>\n",
       "      <td>52.374319</td>\n",
       "      <td>41000000</td>\n",
       "      <td>109.971078</td>\n",
       "      <td>202</td>\n",
       "    </tr>\n",
       "    <tr>\n",
       "      <th>10</th>\n",
       "      <td>Family</td>\n",
       "      <td>47.181782</td>\n",
       "      <td>20000000</td>\n",
       "      <td>89.354043</td>\n",
       "      <td>204</td>\n",
       "    </tr>\n",
       "    <tr>\n",
       "      <th>3</th>\n",
       "      <td>Comedy</td>\n",
       "      <td>46.240603</td>\n",
       "      <td>20000000</td>\n",
       "      <td>86.014009</td>\n",
       "      <td>842</td>\n",
       "    </tr>\n",
       "    <tr>\n",
       "      <th>2</th>\n",
       "      <td>Action</td>\n",
       "      <td>42.278494</td>\n",
       "      <td>38000000</td>\n",
       "      <td>73.245654</td>\n",
       "      <td>710</td>\n",
       "    </tr>\n",
       "    <tr>\n",
       "      <th>0</th>\n",
       "      <td>Romance</td>\n",
       "      <td>40.663051</td>\n",
       "      <td>17000000</td>\n",
       "      <td>68.585792</td>\n",
       "      <td>372</td>\n",
       "    </tr>\n",
       "    <tr>\n",
       "      <th>4</th>\n",
       "      <td>Drama</td>\n",
       "      <td>39.343254</td>\n",
       "      <td>20000000</td>\n",
       "      <td>64.864003</td>\n",
       "      <td>1817</td>\n",
       "    </tr>\n",
       "    <tr>\n",
       "      <th>6</th>\n",
       "      <td>Documentary</td>\n",
       "      <td>33.758716</td>\n",
       "      <td>17250000</td>\n",
       "      <td>50.963395</td>\n",
       "      <td>499</td>\n",
       "    </tr>\n",
       "    <tr>\n",
       "      <th>13</th>\n",
       "      <td>Horror</td>\n",
       "      <td>33.409874</td>\n",
       "      <td>18000000</td>\n",
       "      <td>50.172414</td>\n",
       "      <td>415</td>\n",
       "    </tr>\n",
       "    <tr>\n",
       "      <th>1</th>\n",
       "      <td>Thriller</td>\n",
       "      <td>33.263067</td>\n",
       "      <td>16000000</td>\n",
       "      <td>49.842067</td>\n",
       "      <td>594</td>\n",
       "    </tr>\n",
       "    <tr>\n",
       "      <th>11</th>\n",
       "      <td>Sport</td>\n",
       "      <td>32.555317</td>\n",
       "      <td>16000000</td>\n",
       "      <td>48.269695</td>\n",
       "      <td>75</td>\n",
       "    </tr>\n",
       "    <tr>\n",
       "      <th>12</th>\n",
       "      <td>War</td>\n",
       "      <td>32.314491</td>\n",
       "      <td>16000000</td>\n",
       "      <td>47.742111</td>\n",
       "      <td>53</td>\n",
       "    </tr>\n",
       "  </tbody>\n",
       "</table>\n",
       "</div>"
      ],
      "text/plain": [
       "          Genre  Median Profit Margin  Median Budget  Median ROI  \\\n",
       "7     Animation             64.200283       74500000  179.331814   \n",
       "9     Adventure             56.391856       73621553  129.316965   \n",
       "5        Sci-Fi             53.771616       30000000  116.317319   \n",
       "8       Fantasy             52.374319       41000000  109.971078   \n",
       "10       Family             47.181782       20000000   89.354043   \n",
       "3        Comedy             46.240603       20000000   86.014009   \n",
       "2        Action             42.278494       38000000   73.245654   \n",
       "0       Romance             40.663051       17000000   68.585792   \n",
       "4         Drama             39.343254       20000000   64.864003   \n",
       "6   Documentary             33.758716       17250000   50.963395   \n",
       "13       Horror             33.409874       18000000   50.172414   \n",
       "1      Thriller             33.263067       16000000   49.842067   \n",
       "11        Sport             32.555317       16000000   48.269695   \n",
       "12          War             32.314491       16000000   47.742111   \n",
       "\n",
       "    Number of Films  \n",
       "7               148  \n",
       "9               490  \n",
       "5               229  \n",
       "8               202  \n",
       "10              204  \n",
       "3               842  \n",
       "2               710  \n",
       "0               372  \n",
       "4              1817  \n",
       "6               499  \n",
       "13              415  \n",
       "1               594  \n",
       "11               75  \n",
       "12               53  "
      ]
     },
     "metadata": {},
     "output_type": "display_data"
    }
   ],
   "source": [
    "genres_list = ['Romance','Thriller','Action','Comedy','Drama','Sci-Fi','Documentary','Animation','Fantasy','Adventure','Family','Sport','War','Horror']\n",
    "\n",
    "genres_dict = {}\n",
    "genres_dict['Genre'] = []\n",
    "genres_dict['Median Profit Margin'] = []\n",
    "genres_dict['Median Budget'] = []\n",
    "genres_dict['Median ROI'] = []\n",
    "genres_dict['Number of Films'] = []\n",
    "\n",
    "for genre in genres_list:\n",
    "    merge_ds[genre] = merge_ds['genres'].str.contains(genre)\n",
    "    \n",
    "    genres_dict['Genre'].append(genre)\n",
    "    genres_dict['Median Profit Margin'].append(merge_ds.groupby([genre])[['Profit Margin']].agg('median').sort_values(by = 'Profit Margin', ascending = False).iloc[0][0])\n",
    "    genres_dict['Median Budget'].append(merge_ds.groupby([genre])[['production_budget']].agg('median').sort_values(by = 'production_budget', ascending = False).iloc[0][0])\n",
    "    genres_dict['Median ROI'].append(merge_ds.groupby([genre])[['ROI']].agg('median').sort_values(by = 'ROI', ascending = False).iloc[0][0])\n",
    "    genres_dict['Number of Films'].append(merge_ds['genres'].str.contains(genre).sum() )\n",
    "\n",
    "    \n",
    "print(merge_ds['Profit Margin'].median())\n",
    "\n",
    "\n",
    "genres_df = pd.DataFrame(genres_dict)\n",
    "genres_df = genres_df.sort_values(by = 'Median Profit Margin', ascending = False)\n",
    "display(genres_df)   "
   ]
  },
  {
   "cell_type": "code",
   "execution_count": 203,
   "metadata": {},
   "outputs": [
    {
     "data": {
      "image/png": "[encoded data removed]",
      "text/plain": [
       "<Figure size 1152x792 with 1 Axes>"
      ]
     },
     "metadata": {
      "needs_background": "light"
     },
     "output_type": "display_data"
    }
   ],
   "source": [
    "import seaborn as sns\n",
    "fig, ax = plt.subplots(figsize=(16, 11))\n",
    "height = (genres_df['Median ROI'])\n",
    "bars = (genres_df['Genre'])\n",
    "ax.bar(x=bars, height=height,color=['darkgreen','darkgreen','darkgreen',\n",
    "                                 'darkgrey','darkgrey','darkgrey','darkgrey',\n",
    "                                    'darkgrey','darkgrey','darkgrey','darkgrey',\n",
    "                                    'darkgrey','darkgrey','darkgrey'])\n",
    "\n",
    "# Label x, y and title\n",
    "ax.set_title('Median ROI by Genre', size=40)\n",
    "ax.set_ylabel('Median ROI (%)')\n",
    "ax.set_xlabel('Genre', size=40)\n",
    "\n",
    "plt.xticks(rotation=30, size=14.50)\n",
    "# Show graphic\n",
    "plt.show()"
   ]
  },
  {
   "cell_type": "markdown",
   "metadata": {},
   "source": [
    "In conclusion we merged two data sets in order to work with a larger sample and get a more accurate read on the data. We deleted and cleaned the information that was not necessary to find the information we were looking for. The information that was used was the genres budget, domestic gross, and worldwide gross. From the graph it is shown that the top 3 genres in order to generate the highest ROI are Animation, Adventure, and Science fiction.\n",
    "\n"
   ]
  },
  {
   "cell_type": "markdown",
   "metadata": {},
   "source": [
    "# Impact of writers, directors, and actors on ROI"
   ]
  },
  {
   "cell_type": "code",
   "execution_count": 204,
   "metadata": {},
   "outputs": [],
   "source": [
    "movie_budgets = pd.read_csv(\"./zippedData/tn.movie_budgets.csv.gz\")"
   ]
  },
  {
   "cell_type": "code",
   "execution_count": 205,
   "metadata": {},
   "outputs": [],
   "source": [
    "movie_budgets[\"production_budget\"]\n",
    "def clean_money(df, money_column):\n",
    "    \"With input of a dataframe and one of its columns containing an amount of money in string format, removes symbols\"\n",
    "    \"and converts strings to integers\"\n",
    "    df[money_column] = df[money_column].str.replace(',','')\n",
    "    df[money_column] = df[money_column].str.replace('$','')\n",
    "    df[money_column] = pd.to_numeric(df[money_column])\n",
    "    return df\n",
    "\n",
    "#Run function on movie_budgets money columns\n",
    "movie_budgets = clean_money(movie_budgets,'production_budget')\n",
    "movie_budgets = clean_money(movie_budgets,'domestic_gross')\n",
    "movie_budgets = clean_money(movie_budgets,'worldwide_gross')"
   ]
  },
  {
   "cell_type": "code",
   "execution_count": 206,
   "metadata": {},
   "outputs": [],
   "source": [
    "#Create new \"profit\" column\n",
    "movie_budgets[\"profit\"] = movie_budgets[\"worldwide_gross\"] - movie_budgets[\"production_budget\"]"
   ]
  },
  {
   "cell_type": "code",
   "execution_count": 207,
   "metadata": {},
   "outputs": [],
   "source": [
    "movie_budgets[\"ROI\"] = (movie_budgets[\"profit\"]/movie_budgets[\"production_budget\"]) *100"
   ]
  },
  {
   "cell_type": "code",
   "execution_count": 208,
   "metadata": {},
   "outputs": [],
   "source": [
    "#Query tables from im.db\n",
    "persons = pd.read_sql(\"\"\"\n",
    "SELECT *\n",
    "FROM persons\n",
    "\"\"\", con)\n",
    "writers = pd.read_sql(\"\"\"\n",
    "SELECT *\n",
    "FROM writers\n",
    "\"\"\", con)\n",
    "films = pd.read_sql(\"\"\"\n",
    "SELECT *\n",
    "FROM movie_basics\n",
    "\"\"\", con)"
   ]
  },
  {
   "cell_type": "code",
   "execution_count": 209,
   "metadata": {},
   "outputs": [],
   "source": [
    "#Use persons table to link writers to associated movie ids, drop unnecessary columns\n",
    "full_writers = writers.merge(persons, left_on=\"person_id\", right_on=\"person_id\", how=\"left\")\n",
    "full_writers.drop(labels=[\"person_id\", \"birth_year\", \"primary_profession\"], axis=1, inplace=True)\n",
    "full_writers = full_writers.rename(columns={\"primary_name\": \"writer_name\"})"
   ]
  },
  {
   "cell_type": "code",
   "execution_count": 210,
   "metadata": {},
   "outputs": [],
   "source": [
    "#Use films table to convert movie IDs into titles, drop unnecessary columns\n",
    "film_writers = full_writers.merge(films, left_on=\"movie_id\", right_on=\"movie_id\", how=\"left\")\n",
    "film_writers.drop(labels=[\"movie_id\",\"genres\", \"runtime_minutes\", \"start_year\", \"original_title\"], axis=1, inplace=True)"
   ]
  },
  {
   "cell_type": "code",
   "execution_count": 211,
   "metadata": {},
   "outputs": [],
   "source": [
    "#Link writers/films with their respective financial information\n",
    "writer_profit = movie_budgets.merge(film_writers, left_on=\"movie\", right_on=\"primary_title\", how=\"left\")\n",
    "writer_profit.dropna(subset=[\"writer_name\"], inplace=True)"
   ]
  },
  {
   "cell_type": "code",
   "execution_count": 212,
   "metadata": {},
   "outputs": [],
   "source": [
    "#clean; drop duplicates\n",
    "clean_writers = writer_profit.drop_duplicates()"
   ]
  },
  {
   "cell_type": "code",
   "execution_count": 213,
   "metadata": {},
   "outputs": [],
   "source": [
    "#find the average ROI for all films with associated writers\n",
    "avg_writer_roi = clean_writers.drop_duplicates(subset=\"movie\").mean()[\"ROI\"]"
   ]
  },
  {
   "cell_type": "code",
   "execution_count": 214,
   "metadata": {},
   "outputs": [],
   "source": [
    "#Create dictionary of all writers with above-average\n",
    "#ROI films as keys and their number of such films as values\n",
    "\n",
    "writer_films_strong = clean_writers.drop(clean_writers[clean_writers.ROI < avg_writer_roi].index)\n",
    "potential_writers = writer_films_strong.drop(writer_films_strong[writer_films_strong[\"death_year\"]>1].index)\n",
    "writer_pros = dict(potential_writers[\"writer_name\"].value_counts())"
   ]
  },
  {
   "cell_type": "code",
   "execution_count": 215,
   "metadata": {},
   "outputs": [],
   "source": [
    "#Create dictionary of all writers with below-average\n",
    "#ROI films as keys and their number of such films as values\n",
    "\n",
    "writer_films_weak = clean_writers.drop(clean_writers[clean_writers.ROI > avg_writer_roi].index)\n",
    "questionable_writers = writer_films_weak.drop(writer_films_weak[writer_films_weak[\"death_year\"]>1].index)\n",
    "writer_cons = dict(questionable_writers[\"writer_name\"].value_counts())"
   ]
  },
  {
   "cell_type": "code",
   "execution_count": 216,
   "metadata": {},
   "outputs": [],
   "source": [
    "#Create dictionary of all writers and the number of films they've written\n",
    "writer_totals = dict(clean_writers[\"writer_name\"].value_counts())"
   ]
  },
  {
   "cell_type": "code",
   "execution_count": 217,
   "metadata": {},
   "outputs": [],
   "source": [
    "#Find each writer's percentage of above-average ROI films compared to their total\n",
    "writer_percent = {}\n",
    "for writer in writer_totals:\n",
    "    if writer in writer_pros and writer in writer_cons:\n",
    "        writer_percent[writer] = writer_pros[writer] / writer_totals[writer] * 100\n",
    "    elif writer in writer_pros and writer not in writer_cons:\n",
    "        writer_percent[writer] = 100\n",
    "    elif writer in writer_cons and writer not in writer_pros:\n",
    "        writer_percent[writer] = 0\n",
    "    else:\n",
    "        pass\n",
    "#Create a dictionary with all writers as keys and said percentages\n",
    "#as values, ranked from highest to lowest\n",
    "ranked_writers = dict(sorted(writer_percent.items(), key=lambda x:x[1], reverse=True))\n",
    "#Create dictionary of writers with 100% above-average\n",
    "#ROI films as keys and their number of films as values\n",
    "perfect_writers = {}\n",
    "for key in ranked_writers:\n",
    "    if ranked_writers[key] == 100:\n",
    "        perfect_writers[key] = writer_totals[key]"
   ]
  },
  {
   "cell_type": "code",
   "execution_count": 218,
   "metadata": {},
   "outputs": [
    {
     "name": "stdout",
     "output_type": "stream",
     "text": [
      "26 writers have a 100% success rate writing films with an above-average ROI, and have written three or more films.\n"
     ]
    }
   ],
   "source": [
    "#How many of these writers have written three or more films?\n",
    "writer_count = 0\n",
    "for writer in perfect_writers.values():\n",
    "    if writer >= 3:\n",
    "        writer_count += 1\n",
    "print(f\"{writer_count} writers have a 100% success rate writing films with an above-average ROI, and have written three or more films.\")"
   ]
  },
  {
   "cell_type": "code",
   "execution_count": 219,
   "metadata": {},
   "outputs": [],
   "source": [
    "#Create lists of (1) the first 8 writers from this list and (2) the number of films they've written\n",
    "writer_x = list(perfect_writers.keys())[:8]\n",
    "writer_y = list(perfect_writers.values())[:8]"
   ]
  },
  {
   "cell_type": "code",
   "execution_count": 220,
   "metadata": {},
   "outputs": [
    {
     "data": {
      "image/png": "[encoded data removed]",
      "text/plain": [
       "<Figure size 1152x576 with 1 Axes>"
      ]
     },
     "metadata": {
      "needs_background": "light"
     },
     "output_type": "display_data"
    }
   ],
   "source": [
    "#Graph it\n",
    "fig, ax = plt.subplots(figsize=(16, 8))\n",
    "\n",
    "ax.bar(x=writer_x, height=writer_y, color=\"darkgreen\")\n",
    "\n",
    "ax.set_xlabel('Writers', size=24)\n",
    "ax.set_ylabel('Number of Films Written', size=24)\n",
    "ax.set_title('Writers Who Have Written Only Above-Average ROI Films', size=28)\n",
    "plt.xticks(rotation=20, size=14)\n",
    "plt.yticks(size=16);"
   ]
  },
  {
   "cell_type": "markdown",
   "metadata": {},
   "source": [
    "# Directors"
   ]
  },
  {
   "cell_type": "code",
   "execution_count": 221,
   "metadata": {},
   "outputs": [],
   "source": [
    "#Query director table from im.db\n",
    "directors = pd.read_sql(\"\"\"\n",
    "SELECT *\n",
    "FROM directors\n",
    "\"\"\", con)"
   ]
  },
  {
   "cell_type": "code",
   "execution_count": 222,
   "metadata": {},
   "outputs": [],
   "source": [
    "#Use persons table to link directors to associated movie ids, drop unnecessary columns\n",
    "full_directors = directors.merge(persons, left_on=\"person_id\", right_on=\"person_id\", how=\"left\")\n",
    "full_directors.drop(labels=[\"person_id\", \"birth_year\", \"primary_profession\"], axis=1, inplace=True)\n",
    "full_directors = full_directors.rename(columns={\"primary_name\": \"director_name\"})"
   ]
  },
  {
   "cell_type": "code",
   "execution_count": 223,
   "metadata": {},
   "outputs": [],
   "source": [
    "#Merge via movie ID with full movie info in films table, drop unnecessary columns\n",
    "film_directors = full_directors.merge(films, left_on=\"movie_id\", right_on=\"movie_id\",\n",
    "              how=\"left\")\n",
    "film_directors.drop(labels=[\"movie_id\",\"genres\", \"runtime_minutes\", \"start_year\", \"original_title\"], axis=1, inplace=True)"
   ]
  },
  {
   "cell_type": "code",
   "execution_count": 224,
   "metadata": {},
   "outputs": [],
   "source": [
    "#Link directors/films with their respective financial information\n",
    "dir_profit = movie_budgets.merge(film_directors, left_on=\"movie\", right_on=\"primary_title\", how=\"left\")\n",
    "dir_profit.dropna(subset=[\"director_name\"], inplace=True)"
   ]
  },
  {
   "cell_type": "code",
   "execution_count": 225,
   "metadata": {},
   "outputs": [],
   "source": [
    "#Clean (drop duplicates)\n",
    "clean_dir = dir_profit.drop_duplicates()"
   ]
  },
  {
   "cell_type": "code",
   "execution_count": 226,
   "metadata": {},
   "outputs": [],
   "source": [
    "#find the average ROI for all films with associated directors\n",
    "avg_dir_roi = clean_dir.drop_duplicates(subset=\"movie\").mean()[\"ROI\"]"
   ]
  },
  {
   "cell_type": "code",
   "execution_count": 227,
   "metadata": {},
   "outputs": [],
   "source": [
    "#Create dictionary of all directors with above-average\n",
    "#ROI films as keys and their number of such films as values\n",
    "dir_films_strong = clean_dir.drop(clean_dir[clean_dir.ROI < avg_dir_roi].index)\n",
    "potential_dir = dir_films_strong.drop(dir_films_strong[dir_films_strong[\"death_year\"]>1].index)\n",
    "dir_pros = dict(potential_dir[\"director_name\"].value_counts())"
   ]
  },
  {
   "cell_type": "code",
   "execution_count": 228,
   "metadata": {},
   "outputs": [],
   "source": [
    "#Create dictionary of all directors with below-average\n",
    "#ROI films as keys and their number of such films as values\n",
    "dir_films_weak = clean_dir.drop(clean_dir[clean_dir.ROI > avg_dir_roi].index)\n",
    "questionable_dir = dir_films_weak.drop(dir_films_weak[dir_films_weak[\"death_year\"]>1].index)\n",
    "dir_cons = dict(questionable_dir[\"director_name\"].value_counts())"
   ]
  },
  {
   "cell_type": "code",
   "execution_count": 229,
   "metadata": {},
   "outputs": [],
   "source": [
    "#Create dictionary of all directors and the number of films they've directed\n",
    "dir_totals = dict(clean_dir[\"director_name\"].value_counts())"
   ]
  },
  {
   "cell_type": "code",
   "execution_count": 230,
   "metadata": {},
   "outputs": [],
   "source": [
    "#Find each director's percentage of above-average ROI films compared to their total\n",
    "dir_percent = {}\n",
    "for _dir in dir_totals:\n",
    "    if _dir in dir_pros and _dir in dir_cons:\n",
    "        dir_percent[_dir] = dir_pros[_dir] / dir_totals[_dir] * 100\n",
    "    elif _dir in dir_pros and _dir not in dir_cons:\n",
    "        dir_percent[_dir] = 100\n",
    "    elif _dir in dir_cons and _dir not in dir_pros:\n",
    "        dir_percent[_dir] = 0\n",
    "    else:\n",
    "        pass\n",
    "#Create a dictionary with all directors as keys and said percentages\n",
    "#as values, ranked from highest to lowest\n",
    "ranked_dir = dict(sorted(dir_percent.items(), key=lambda x:x[1], reverse=True))\n",
    "#Create dictionary of writers with 100% above-average\n",
    "#ROI films as keys and their number of films as values\n",
    "perfect_dir = {}\n",
    "for key in ranked_dir:\n",
    "    if ranked_dir[key] == 100:\n",
    "        perfect_dir[key] = dir_totals[key]"
   ]
  },
  {
   "cell_type": "code",
   "execution_count": 231,
   "metadata": {},
   "outputs": [
    {
     "name": "stdout",
     "output_type": "stream",
     "text": [
      "16 directors have a 100% success rate directing films with an above-average ROI, and have directed three or more films.\n"
     ]
    }
   ],
   "source": [
    "#How many of these directors have directed three or more films?\n",
    "dir_count = 0\n",
    "for _dir in perfect_dir.values():\n",
    "    if _dir >= 3:\n",
    "        dir_count += 1\n",
    "print(f\"{dir_count} directors have a 100% success rate directing films with an above-average ROI, and have directed three or more films.\")"
   ]
  },
  {
   "cell_type": "code",
   "execution_count": 232,
   "metadata": {},
   "outputs": [],
   "source": [
    "#Create lists of (1) the first 8 directors from this list and (2) the number of films they've directed\n",
    "dir_x = list(perfect_dir.keys())[:8]\n",
    "dir_y = list(perfect_dir.values())[:8]"
   ]
  },
  {
   "cell_type": "code",
   "execution_count": 233,
   "metadata": {},
   "outputs": [
    {
     "data": {
      "image/png": "[encoded data removed]",
      "text/plain": [
       "<Figure size 1152x576 with 1 Axes>"
      ]
     },
     "metadata": {
      "needs_background": "light"
     },
     "output_type": "display_data"
    }
   ],
   "source": [
    "#Graph it\n",
    "fig, ax = plt.subplots(figsize=(16, 8))\n",
    "\n",
    "ax.bar(x=dir_x, height=dir_y, color=\"darkgreen\")\n",
    "\n",
    "ax.set_xlabel('Directors', size=24)\n",
    "ax.set_ylabel('Number of Films', size=24)\n",
    "ax.set_title('Directors Who Have Directed Only Above-Average ROI Films', size=28)\n",
    "plt.xticks(rotation=20, size=14)\n",
    "plt.yticks(size=16);"
   ]
  },
  {
   "cell_type": "markdown",
   "metadata": {},
   "source": [
    "# Actors"
   ]
  },
  {
   "cell_type": "code",
   "execution_count": 234,
   "metadata": {},
   "outputs": [],
   "source": [
    "#Query prinipals table from IMDB\n",
    "principals =  pd.read_sql(\"\"\"\n",
    "SELECT *\n",
    "FROM principals\n",
    "\"\"\", con)"
   ]
  },
  {
   "cell_type": "code",
   "execution_count": 235,
   "metadata": {},
   "outputs": [],
   "source": [
    "#Drop all non-actors and unnecessary columns\n",
    "actors = principals.drop(principals[(principals.category != \"actress\")&(principals.category != \"actor\")].index)\n",
    "actors.drop(labels=[\"job\", \"characters\", \"ordering\", \"category\"], axis=1, inplace=True)"
   ]
  },
  {
   "cell_type": "code",
   "execution_count": 236,
   "metadata": {},
   "outputs": [],
   "source": [
    "#Use persons table to link actors to associated movie ids, drop unnecessary columns\n",
    "full_actors = actors.merge(persons, left_on=\"person_id\", right_on=\"person_id\", how=\"left\")\n",
    "full_actors.drop(labels=[\"birth_year\", \"primary_profession\"], axis=1, inplace=True)\n",
    "full_actors = full_actors.rename(columns={\"primary_name\": \"actor_name\"})"
   ]
  },
  {
   "cell_type": "code",
   "execution_count": 237,
   "metadata": {},
   "outputs": [],
   "source": [
    "#Merge via movie ID with full movie info in films table, drop unnecessary columns\n",
    "film_actors = full_actors.merge(films, left_on=\"movie_id\", right_on=\"movie_id\", how=\"left\")\n",
    "film_actors.drop(labels=[\"movie_id\",\"genres\", \"runtime_minutes\", \"start_year\", \"original_title\"], axis=1, inplace=True)"
   ]
  },
  {
   "cell_type": "code",
   "execution_count": 238,
   "metadata": {},
   "outputs": [],
   "source": [
    "#Link actors/films with their respective financial information\n",
    "actor_profit = movie_budgets.merge(film_actors, left_on=\"movie\", right_on=\"primary_title\", how=\"left\")\n",
    "actor_profit.dropna(subset=[\"actor_name\"], inplace=True)"
   ]
  },
  {
   "cell_type": "code",
   "execution_count": 239,
   "metadata": {},
   "outputs": [],
   "source": [
    "#Clean (drop duplicates)\n",
    "clean_actors = actor_profit.drop_duplicates()"
   ]
  },
  {
   "cell_type": "code",
   "execution_count": 240,
   "metadata": {},
   "outputs": [],
   "source": [
    "#find the average ROI for all films with associated actors\n",
    "avg_actor_roi = clean_actors.drop_duplicates(subset=\"movie\").mean()[\"ROI\"]"
   ]
  },
  {
   "cell_type": "code",
   "execution_count": 241,
   "metadata": {},
   "outputs": [],
   "source": [
    "#Create dictionary of all actors with above-average\n",
    "#ROI films as keys and their number of such films as values\n",
    "actor_films_strong = clean_actors.drop(clean_actors[clean_actors.ROI < avg_actor_roi].index)\n",
    "potential_actors = actor_films_strong.drop(actor_films_strong[actor_films_strong[\"death_year\"]>1].index)\n",
    "actor_pros = dict(potential_actors[\"actor_name\"].value_counts())"
   ]
  },
  {
   "cell_type": "code",
   "execution_count": 242,
   "metadata": {},
   "outputs": [],
   "source": [
    "#Create dictionary of all actors with below-average\n",
    "#ROI films as keys and their number of such films as values\n",
    "actor_films_weak = clean_actors.drop(clean_actors[clean_actors.ROI > avg_actor_roi].index)\n",
    "questionable_actors = actor_films_weak.drop(actor_films_weak[actor_films_weak[\"death_year\"]>1].index)\n",
    "actor_cons = dict(questionable_actors[\"actor_name\"].value_counts())"
   ]
  },
  {
   "cell_type": "code",
   "execution_count": 243,
   "metadata": {},
   "outputs": [],
   "source": [
    "#Create dictionary of all directors and the number of films they've directed\n",
    "actor_totals= dict(clean_actors[\"actor_name\"].value_counts())"
   ]
  },
  {
   "cell_type": "code",
   "execution_count": 244,
   "metadata": {},
   "outputs": [],
   "source": [
    "#Find each actors's percentage of above-average ROI films compared to their total\n",
    "actor_percent = {}\n",
    "for actor in actor_totals:\n",
    "    if actor in actor_pros and actor in actor_cons:\n",
    "        actor_percent[actor] = actor_pros[actor] / actor_totals[actor] * 100\n",
    "    elif actor in dir_pros and actor not in dir_cons:\n",
    "        actor_percent[actor] = 100\n",
    "    elif actor in dir_cons and actor not in dir_pros:\n",
    "        actor_percent[actor] = 0\n",
    "    else:\n",
    "        pass\n",
    "#Create a dictionary with all actors as keys and said percentages\n",
    "#as values, ranked from highest to lowest\n",
    "ranked_actors = dict(sorted(actor_percent.items(), key=lambda x:x[1], reverse=True))\n",
    "#Create dictionary of actors with 100% above-average\n",
    "#ROI films as keys and their number of films as values\n",
    "perfect_actors = {}\n",
    "for key in ranked_actors:\n",
    "    if ranked_actors[key] == 100:\n",
    "        perfect_actors[key] = actor_totals[key]"
   ]
  },
  {
   "cell_type": "code",
   "execution_count": 245,
   "metadata": {},
   "outputs": [
    {
     "name": "stdout",
     "output_type": "stream",
     "text": [
      "1 actor has a 100% success rate appearing in films with an above-average ROI, and has acted in three or more films.\n"
     ]
    }
   ],
   "source": [
    "#How many of these actors have appeared in three or more films?\n",
    "actor_count = 0\n",
    "for actor in perfect_actors.values():\n",
    "    if actor >= 3:\n",
    "        actor_count += 1\n",
    "print(f\"{actor_count} actor has a 100% success rate appearing in films with an above-average ROI, and has acted in three or more films.\")"
   ]
  },
  {
   "cell_type": "code",
   "execution_count": 246,
   "metadata": {},
   "outputs": [],
   "source": [
    "#Create lists of (1) the first 8 actors from this list and\n",
    "#(2) the number of films they've appeared in\n",
    "actor_x = list(perfect_actors.keys())[:8]\n",
    "actor_y = list(perfect_actors.values())[:8]"
   ]
  },
  {
   "cell_type": "code",
   "execution_count": 247,
   "metadata": {},
   "outputs": [
    {
     "data": {
      "image/png": "[encoded data removed]",
      "text/plain": [
       "<Figure size 1152x576 with 1 Axes>"
      ]
     },
     "metadata": {
      "needs_background": "light"
     },
     "output_type": "display_data"
    }
   ],
   "source": [
    "#Graph it\n",
    "fig, ax = plt.subplots(figsize=(16, 8))\n",
    "\n",
    "ax.bar(x=actor_x, height=actor_y, color=\"darkgreen\")\n",
    "\n",
    "ax.set_xlabel('Actors', size=24)\n",
    "ax.set_ylabel('Number of Films', size=24)\n",
    "ax.set_title('Actors Appearing Only in Above-Average ROI Films', size=28)\n",
    "plt.xticks(rotation=20, size=14)\n",
    "plt.yticks(size=16);"
   ]
  },
  {
   "cell_type": "markdown",
   "metadata": {},
   "source": [
    "# Synthesis"
   ]
  },
  {
   "cell_type": "code",
   "execution_count": 248,
   "metadata": {},
   "outputs": [],
   "source": [
    "#Find the percentage of each group that has a \"perfect\"\n",
    "#record of above-average ROI films\n",
    "perc_perf_writers = len(perfect_writers)/len(ranked_writers)*100\n",
    "perc_perf_dir = len(perfect_dir)/len(ranked_dir)*100\n",
    "perc_perf_actors = len(perfect_actors)/len(ranked_actors)*100"
   ]
  },
  {
   "cell_type": "code",
   "execution_count": 249,
   "metadata": {},
   "outputs": [],
   "source": [
    "#Set said figures lists for graph\n",
    "syn_list_x = [\"Writers\", \"Directors\", \"Actors\"]\n",
    "syn_list_y = [perc_perf_writers, perc_perf_dir, perc_perf_actors]"
   ]
  },
  {
   "cell_type": "code",
   "execution_count": 250,
   "metadata": {},
   "outputs": [
    {
     "data": {
      "image/png": "[encoded data removed]",
      "text/plain": [
       "<Figure size 1152x576 with 1 Axes>"
      ]
     },
     "metadata": {
      "needs_background": "light"
     },
     "output_type": "display_data"
    }
   ],
   "source": [
    "#Graph it\n",
    "fig, ax = plt.subplots(figsize=(16, 8))\n",
    "\n",
    "ax.bar(x=syn_list_x, height=syn_list_y, color=[\"darkgreen\", \"darkgreen\", \"darkgrey\"])\n",
    "ax.set_xlabel('Occupations', size=24)\n",
    "ax.set_ylabel('Percent', size=24)\n",
    "ax.set_title('Percentage of Persons Working Only on Above-Average ROI Films', size=28)\n",
    "plt.xticks(size=18)\n",
    "plt.yticks(size=16);"
   ]
  },
  {
   "cell_type": "markdown",
   "metadata": {},
   "source": [
    "## Evaluation\n",
    "Our evalation solves the intial problem because now Microsoft is going to be able to initiate a successful movie studio using data to back up their decisions. \n",
    "\n",
    "We found that genres with the highest median ROIs are animation, adventure, and science-fiction. These genres yield a median ROI between 115% and 180%. This indicates that films within these genres are the most likely to yield a strong ROI. \n",
    "We found that actors, writers, and directors show very different levels of impact on their films' box office performance. Of the writers in our data set, nearly 16% had a perfect track record of writing films with above-average ROIs; this set includes 26 writers who have written three or more films, all with above-average ROIs. For directors, just over 13% had only directed films with above-average ROIs, including 16 directors who had directed three or more films. For actors, less than 3% had only appeared in films with above-average ROIs, only one of whom had appeared in more than two films (Mel Gibson). This indicates that writers and directors are stronger indicators of a film's financial success, while actors are more likely to appear in both high- and low- ROI films. \n",
    "We found that the months with the highest ROIs for all films are May, June, and July, as well as November. Each of these months has a median ROI of well over 100%. This indicates that films released in these months are the most likely to return a strong ROI. Notably, November is a popular month due to being soon before the deadline for awards season; this results in voters having these films freshest in their minds during voting, making it a popular choice for films targetting awards shows. The months of May, June, and July, meanwhile, seem to be the most popular time to go to movie theatres, causing these films to have higher ROIs than films released in other months.\n",
    "\n",
    "***"
   ]
  },
  {
   "cell_type": "markdown",
   "metadata": {},
   "source": [
    "# Conclusion"
   ]
  },
  {
   "cell_type": "markdown",
   "metadata": {},
   "source": [
    "Based on our data and results, we believe that a new movie studio should target the high-ROI genres of animation, action, and science-fiction. These films should be produced with writers and directors who have a strong track record of financial success; for animation films, we reccomend Phil Lord and Christopher Miller, known for The Lego Movie and Spider Man: Into the Spider-Verse, and for action and science-fiction, we reccomend Damien Chazelle, best known for Black Panther. For directors, we reccommend Pierre Coffin, best known for the Dispicable Me franchise, for animation films, and Anthony Russo, best known for Avengers: Endgame and Infinity War, for science-fiction and action films. We reccommend these films be released during the summer to target high theatre traffic during those months.\n",
    "\n",
    "With more time and resources, we would like to research the measures of dispersion of the ROIs of each artists' films. This would either solidify or redirect our observations in this area. This might also identify other artists with strongly consistent ROIs. We would also like to look into the interaction of these variables. Do certain genres perform especially well during certain months? Do certain artists see their best ROIs in certain genres? Further research would allow us to provide more specific reccomendations that would further facilitate financial growth."
   ]
  }
 ],
 "metadata": {
  "kernelspec": {
   "display_name": "Python 3",
   "language": "python",
   "name": "python3"
  },
  "language_info": {
   "codemirror_mode": {
    "name": "ipython",
    "version": 3
   },
   "file_extension": ".py",
   "mimetype": "text/x-python",
   "name": "python",
   "nbconvert_exporter": "python",
   "pygments_lexer": "ipython3",
   "version": "3.8.5"
  }
 },
 "nbformat": 4,
 "nbformat_minor": 4
}
