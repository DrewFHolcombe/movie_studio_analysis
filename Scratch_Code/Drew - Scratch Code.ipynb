{
 "cells": [
  {
   "cell_type": "code",
   "execution_count": 3,
   "metadata": {},
   "outputs": [],
   "source": [
    "#Necessary imports\n",
    "import pandas as pd\n",
    "import numpy as np\n",
    "import csv\n",
    "import sqlite3\n",
    "import matplotlib.pyplot as plt"
   ]
  },
  {
   "cell_type": "code",
   "execution_count": 5,
   "metadata": {
    "scrolled": true
   },
   "outputs": [],
   "source": [
    "#Setting necessary databases to variables, establishing connection and cursor to SQL database\n",
    "movie_budgets = pd.read_csv(\"tn.movie_budgets.csv.gz\")\n",
    "con = sqlite3.connect(\"./im.db\")\n",
    "cursor = con.cursor()"
   ]
  },
  {
   "cell_type": "code",
   "execution_count": 6,
   "metadata": {},
   "outputs": [],
   "source": [
    "#Creates a function to clean columns with money formatted as strings and convert them into integers\n",
    "movie_budgets[\"production_budget\"]\n",
    "def clean_money(df, money_column):\n",
    "    \"With input of a dataframe and one of its columns containing an amount of money in string format, removes symbols\"\n",
    "    \"and converts strings to integers\"\n",
    "    df[money_column] = df[money_column].str.replace(',','')\n",
    "    df[money_column] = df[money_column].str.replace('$','')\n",
    "    df[money_column] = pd.to_numeric(df[money_column])\n",
    "    return df\n",
    "\n",
    "#Run function on movie_budgets money columns\n",
    "movie_budgets = clean_money(movie_budgets,'production_budget')\n",
    "movie_budgets = clean_money(movie_budgets,'domestic_gross')\n",
    "movie_budgets = clean_money(movie_budgets,'worldwide_gross')"
   ]
  },
  {
   "cell_type": "code",
   "execution_count": 7,
   "metadata": {},
   "outputs": [],
   "source": [
    "#Create new \"profit\" column\n",
    "movie_budgets[\"profit\"] = movie_budgets[\"worldwide_gross\"] - movie_budgets[\"production_budget\"]"
   ]
  },
  {
   "cell_type": "code",
   "execution_count": 8,
   "metadata": {},
   "outputs": [],
   "source": [
    "#Query tables from im.db\n",
    "persons = pd.read_sql(\"\"\"\n",
    "SELECT *\n",
    "FROM persons\n",
    "\"\"\", con)\n",
    "writers = pd.read_sql(\"\"\"\n",
    "SELECT *\n",
    "FROM writers\n",
    "\"\"\", con)\n",
    "films = pd.read_sql(\"\"\"\n",
    "SELECT *\n",
    "FROM movie_basics\n",
    "\"\"\", con)"
   ]
  },
  {
   "cell_type": "code",
   "execution_count": 9,
   "metadata": {
    "scrolled": true
   },
   "outputs": [],
   "source": [
    "#Use persons table to link writers to associated movie ids, drop unnecessary columns\n",
    "full_writers = writers.merge(persons, left_on=\"person_id\", right_on=\"person_id\", how=\"left\")\n",
    "full_writers.drop(labels=[\"person_id\", \"birth_year\", \"primary_profession\"], axis=1, inplace=True)\n",
    "full_writers = full_writers.rename(columns={\"primary_name\": \"writer_name\"})\n",
    "#Use films table to convert movie IDs into titles, drop unnecessary columns\n",
    "film_writers = full_writers.merge(films, left_on=\"movie_id\", right_on=\"movie_id\", how=\"left\")\n",
    "film_writers.drop(labels=[\"movie_id\",\"genres\", \"runtime_minutes\", \"start_year\", \"original_title\"], axis=1, inplace=True)"
   ]
  },
  {
   "cell_type": "code",
   "execution_count": 10,
   "metadata": {},
   "outputs": [],
   "source": [
    "#Link writers and \n",
    "writer_profit = movie_budgets.merge(film_writers, left_on=\"movie\", right_on=\"primary_title\", how=\"left\")\n",
    "writer_profit.dropna(subset=[\"writer_name\"], inplace=True)"
   ]
  },
  {
   "cell_type": "code",
   "execution_count": 11,
   "metadata": {},
   "outputs": [],
   "source": [
    "clean_writers = writer_profit.drop_duplicates()"
   ]
  },
  {
   "cell_type": "code",
   "execution_count": 12,
   "metadata": {
    "scrolled": true
   },
   "outputs": [],
   "source": [
    "avg_writer_profit = clean_writers.drop_duplicates(subset=\"movie\").mean()[\"profit\"]"
   ]
  },
  {
   "cell_type": "code",
   "execution_count": 13,
   "metadata": {},
   "outputs": [],
   "source": [
    "writer_films_strong = clean_writers.drop(clean_writers[clean_writers.profit < avg_writer_profit].index)"
   ]
  },
  {
   "cell_type": "code",
   "execution_count": 14,
   "metadata": {},
   "outputs": [],
   "source": [
    "potential_writers = writer_films_strong.drop(writer_films_strong[writer_films_strong[\"death_year\"]>1].index)"
   ]
  },
  {
   "cell_type": "code",
   "execution_count": 15,
   "metadata": {
    "scrolled": true
   },
   "outputs": [],
   "source": [
    "writer_pros = dict(potential_writers[\"writer_name\"].value_counts())"
   ]
  },
  {
   "cell_type": "code",
   "execution_count": 16,
   "metadata": {},
   "outputs": [],
   "source": [
    "writer_films_weak = clean_writers.drop(clean_writers[clean_writers.profit > avg_writer_profit].index)"
   ]
  },
  {
   "cell_type": "code",
   "execution_count": 17,
   "metadata": {},
   "outputs": [],
   "source": [
    "questionable_writers = writer_films_weak.drop(writer_films_weak[writer_films_weak[\"death_year\"]>1].index)"
   ]
  },
  {
   "cell_type": "code",
   "execution_count": 18,
   "metadata": {
    "scrolled": false
   },
   "outputs": [],
   "source": [
    "writer_cons = dict(questionable_writers[\"writer_name\"].value_counts())"
   ]
  },
  {
   "cell_type": "code",
   "execution_count": 19,
   "metadata": {},
   "outputs": [],
   "source": [
    "writer_totals = dict(clean_writers[\"writer_name\"].value_counts())"
   ]
  },
  {
   "cell_type": "code",
   "execution_count": 20,
   "metadata": {},
   "outputs": [],
   "source": [
    "writer_percent = {}\n",
    "for writer in writer_totals:\n",
    "    if writer in writer_pros and writer in writer_cons:\n",
    "        writer_percent[writer] = writer_pros[writer] / writer_totals[writer] * 100\n",
    "    elif writer in writer_pros and writer not in writer_cons:\n",
    "        writer_percent[writer] = 100\n",
    "    elif writer in writer_cons and writer not in writer_pros:\n",
    "        writer_percent[writer] = 0\n",
    "    else:\n",
    "        pass\n",
    "ranked_writers = dict(sorted(writer_percent.items(), key=lambda x:x[1], reverse=True))\n",
    "perfect_writers = {}\n",
    "for key in ranked_writers:\n",
    "    if ranked_writers[key] == 100:\n",
    "        perfect_writers[key] = writer_totals[key]"
   ]
  },
  {
   "cell_type": "code",
   "execution_count": 21,
   "metadata": {},
   "outputs": [],
   "source": [
    "writer_x = list(perfect_writers.keys())[:8]\n",
    "writer_y = list(perfect_writers.values())[:8]"
   ]
  },
  {
   "cell_type": "code",
   "execution_count": 22,
   "metadata": {},
   "outputs": [
    {
     "data": {
      "image/png": "[encoded data removed]",
      "text/plain": [
       "<Figure size 1152x576 with 1 Axes>"
      ]
     },
     "metadata": {
      "needs_background": "light"
     },
     "output_type": "display_data"
    }
   ],
   "source": [
    "fig, ax = plt.subplots(figsize=(16, 8))\n",
    "\n",
    "ax.bar(x=writer_x, height=writer_y)\n",
    "\n",
    "ax.set_xlabel('Writers')\n",
    "ax.set_ylabel('Number of Films Written')\n",
    "ax.set_title('Writers with Only Above-Average Films');"
   ]
  },
  {
   "cell_type": "markdown",
   "metadata": {},
   "source": [
    "# Directors"
   ]
  },
  {
   "cell_type": "code",
   "execution_count": 23,
   "metadata": {
    "scrolled": true
   },
   "outputs": [],
   "source": [
    "directors = pd.read_sql(\"\"\"\n",
    "SELECT *\n",
    "FROM directors\n",
    "\"\"\", con)"
   ]
  },
  {
   "cell_type": "code",
   "execution_count": 24,
   "metadata": {},
   "outputs": [],
   "source": [
    "full_directors = directors.merge(persons, left_on=\"person_id\", right_on=\"person_id\", how=\"left\")\n",
    "full_directors.drop(labels=[\"person_id\", \"birth_year\", \"primary_profession\"], axis=1, inplace=True)\n",
    "full_directors = full_directors.rename(columns={\"primary_name\": \"director_name\"})"
   ]
  },
  {
   "cell_type": "code",
   "execution_count": 25,
   "metadata": {},
   "outputs": [],
   "source": [
    "film_directors = full_directors.merge(films, left_on=\"movie_id\", right_on=\"movie_id\",\n",
    "              how=\"left\")\n",
    "film_directors.drop(labels=[\"movie_id\",\"genres\", \"runtime_minutes\", \"start_year\", \"original_title\"], axis=1, inplace=True)"
   ]
  },
  {
   "cell_type": "code",
   "execution_count": 26,
   "metadata": {},
   "outputs": [],
   "source": [
    "dir_profit = movie_budgets.merge(film_directors, left_on=\"movie\", right_on=\"primary_title\", how=\"left\")\n",
    "dir_profit.dropna(subset=[\"director_name\"], inplace=True)"
   ]
  },
  {
   "cell_type": "code",
   "execution_count": 27,
   "metadata": {},
   "outputs": [],
   "source": [
    "clean_dir = dir_profit.drop_duplicates()"
   ]
  },
  {
   "cell_type": "code",
   "execution_count": 28,
   "metadata": {},
   "outputs": [],
   "source": [
    "avg_dir_profit = clean_dir.drop_duplicates(subset=\"movie\").mean()[\"profit\"]"
   ]
  },
  {
   "cell_type": "code",
   "execution_count": 29,
   "metadata": {},
   "outputs": [],
   "source": [
    "dir_films_strong = clean_dir.drop(clean_dir[clean_dir.profit < avg_dir_profit].index)\n",
    "potential_dir = dir_films_strong.drop(dir_films_strong[dir_films_strong[\"death_year\"]>1].index)\n",
    "dir_pros = dict(potential_dir[\"director_name\"].value_counts())"
   ]
  },
  {
   "cell_type": "code",
   "execution_count": 30,
   "metadata": {},
   "outputs": [],
   "source": [
    "dir_films_weak = clean_dir.drop(clean_dir[clean_dir.profit > avg_dir_profit].index)\n",
    "questionable_dir = dir_films_weak.drop(dir_films_weak[dir_films_weak[\"death_year\"]>1].index)\n",
    "dir_cons = dict(questionable_dir[\"director_name\"].value_counts())"
   ]
  },
  {
   "cell_type": "code",
   "execution_count": 31,
   "metadata": {},
   "outputs": [],
   "source": [
    "dir_points = {}\n",
    "for _dir in dir_pros:\n",
    "    if _dir in dir_cons:\n",
    "        points = dir_pros[_dir] - dir_cons[_dir]\n",
    "    else:\n",
    "        points = dir_pros[_dir]\n",
    "    dir_points[_dir] = points"
   ]
  },
  {
   "cell_type": "code",
   "execution_count": 32,
   "metadata": {},
   "outputs": [],
   "source": [
    "dir_totals = dict(clean_dir[\"director_name\"].value_counts())"
   ]
  },
  {
   "cell_type": "code",
   "execution_count": 33,
   "metadata": {},
   "outputs": [],
   "source": [
    "dir_percent = {}\n",
    "for _dir in dir_totals:\n",
    "    if _dir in dir_pros and _dir in dir_cons:\n",
    "        dir_percent[_dir] = dir_pros[_dir] / dir_totals[_dir] * 100\n",
    "    elif _dir in dir_pros and _dir not in dir_cons:\n",
    "        dir_percent[_dir] = 100\n",
    "    elif _dir in dir_cons and _dir not in dir_pros:\n",
    "        dir_percent[_dir] = 0\n",
    "    else:\n",
    "        pass\n",
    "ranked_dir = dict(sorted(dir_percent.items(), key=lambda x:x[1], reverse=True))\n",
    "perfect_dir = {}\n",
    "for key in ranked_dir:\n",
    "    if ranked_dir[key] == 100:\n",
    "        perfect_dir[key] = dir_totals[key]"
   ]
  },
  {
   "cell_type": "code",
   "execution_count": 34,
   "metadata": {},
   "outputs": [],
   "source": [
    "dir_x = list(perfect_dir.keys())[:7]\n",
    "dir_y = list(perfect_dir.values())[:7]"
   ]
  },
  {
   "cell_type": "code",
   "execution_count": 35,
   "metadata": {},
   "outputs": [
    {
     "data": {
      "image/png": "[encoded data removed]",
      "text/plain": [
       "<Figure size 1152x576 with 1 Axes>"
      ]
     },
     "metadata": {
      "needs_background": "light"
     },
     "output_type": "display_data"
    }
   ],
   "source": [
    "fig, ax = plt.subplots(figsize=(16, 8))\n",
    "\n",
    "ax.bar(x=dir_x, height=dir_y)\n",
    "\n",
    "ax.set_xlabel('Directors')\n",
    "ax.set_ylabel('Number of Films')\n",
    "ax.set_title('Directors Who Directed Only Above-Average Earning Films')\n",
    "plt.xticks(rotation=45);"
   ]
  },
  {
   "cell_type": "markdown",
   "metadata": {},
   "source": [
    "# Actors"
   ]
  },
  {
   "cell_type": "code",
   "execution_count": 36,
   "metadata": {},
   "outputs": [],
   "source": [
    "principals =  pd.read_sql(\"\"\"\n",
    "SELECT *\n",
    "FROM principals\n",
    "\"\"\", con)"
   ]
  },
  {
   "cell_type": "code",
   "execution_count": 37,
   "metadata": {},
   "outputs": [],
   "source": [
    "actors = principals.drop(principals[(principals.category != \"actress\")&(principals.category != \"actor\")].index)\n",
    "actors.drop(labels=[\"job\", \"characters\", \"ordering\", \"category\"], axis=1, inplace=True)"
   ]
  },
  {
   "cell_type": "code",
   "execution_count": 38,
   "metadata": {},
   "outputs": [],
   "source": [
    "full_actors = actors.merge(persons, left_on=\"person_id\", right_on=\"person_id\", how=\"left\")\n",
    "full_actors.drop(labels=[\"birth_year\", \"primary_profession\"], axis=1, inplace=True)\n",
    "full_actors = full_actors.rename(columns={\"primary_name\": \"actor_name\"})"
   ]
  },
  {
   "cell_type": "code",
   "execution_count": 39,
   "metadata": {},
   "outputs": [],
   "source": [
    "film_actors = full_actors.merge(films, left_on=\"movie_id\", right_on=\"movie_id\", how=\"left\")\n",
    "film_actors.drop(labels=[\"movie_id\",\"genres\", \"runtime_minutes\", \"start_year\", \"original_title\"], axis=1, inplace=True)"
   ]
  },
  {
   "cell_type": "code",
   "execution_count": 40,
   "metadata": {},
   "outputs": [],
   "source": [
    "actor_profit = movie_budgets.merge(film_actors, left_on=\"movie\", right_on=\"primary_title\", how=\"left\")\n",
    "actor_profit.dropna(subset=[\"actor_name\"], inplace=True)"
   ]
  },
  {
   "cell_type": "code",
   "execution_count": 41,
   "metadata": {},
   "outputs": [],
   "source": [
    "clean_actors = actor_profit.drop_duplicates()"
   ]
  },
  {
   "cell_type": "code",
   "execution_count": 42,
   "metadata": {},
   "outputs": [],
   "source": [
    "avg_actor_profit = clean_actors.drop_duplicates(subset=\"movie\").mean()[\"profit\"]"
   ]
  },
  {
   "cell_type": "code",
   "execution_count": 43,
   "metadata": {},
   "outputs": [],
   "source": [
    "actor_films_strong = clean_actors.drop(clean_actors[clean_actors.profit < avg_actor_profit].index)\n",
    "potential_actors = actor_films_strong.drop(actor_films_strong[actor_films_strong[\"death_year\"]>1].index)\n",
    "actor_pros = dict(potential_actors[\"actor_name\"].value_counts())"
   ]
  },
  {
   "cell_type": "code",
   "execution_count": 44,
   "metadata": {},
   "outputs": [],
   "source": [
    "actor_films_weak = clean_actors.drop(clean_actors[clean_actors.profit > avg_actor_profit].index)\n",
    "questionable_actors = actor_films_weak.drop(actor_films_weak[actor_films_weak[\"death_year\"]>1].index)\n",
    "actor_cons = dict(questionable_actors[\"actor_name\"].value_counts())"
   ]
  },
  {
   "cell_type": "code",
   "execution_count": 45,
   "metadata": {},
   "outputs": [],
   "source": [
    "actor_points = {}\n",
    "for actor in actor_pros:\n",
    "    if actor in actor_cons:\n",
    "        points = actor_pros[actor] - actor_cons[actor]\n",
    "    else:\n",
    "        points = actor_pros[actor]\n",
    "    actor_points[actor] = points"
   ]
  },
  {
   "cell_type": "code",
   "execution_count": 46,
   "metadata": {},
   "outputs": [],
   "source": [
    "actor_totals = dict(clean_actors[\"actor_name\"].value_counts())"
   ]
  },
  {
   "cell_type": "code",
   "execution_count": 47,
   "metadata": {},
   "outputs": [],
   "source": [
    "actor_percent = {}\n",
    "for actor in actor_totals:\n",
    "    if actor in actor_pros and actor in actor_cons:\n",
    "        actor_percent[actor] = actor_pros[actor] / actor_totals[actor] * 100\n",
    "    elif actor in dir_pros and actor not in dir_cons:\n",
    "        actor_percent[actor] = 100\n",
    "    elif actor in dir_cons and actor not in dir_pros:\n",
    "        actor_percent[actor] = 0\n",
    "    else:\n",
    "        pass\n",
    "ranked_actors = dict(sorted(actor_percent.items(), key=lambda x:x[1], reverse=True))"
   ]
  },
  {
   "cell_type": "code",
   "execution_count": 48,
   "metadata": {},
   "outputs": [],
   "source": [
    "perfect_actors = {}\n",
    "for key in ranked_actors:\n",
    "    if ranked_actors[key] == 100:\n",
    "        perfect_actors[key] = actor_totals[key]"
   ]
  },
  {
   "cell_type": "code",
   "execution_count": 49,
   "metadata": {},
   "outputs": [],
   "source": [
    "actor_x = list(perfect_actors.keys())[:8]\n",
    "actor_y = list(perfect_actors.values())[:8]"
   ]
  },
  {
   "cell_type": "code",
   "execution_count": 50,
   "metadata": {},
   "outputs": [
    {
     "data": {
      "image/png": "[encoded data removed]",
      "text/plain": [
       "<Figure size 1152x576 with 1 Axes>"
      ]
     },
     "metadata": {
      "needs_background": "light"
     },
     "output_type": "display_data"
    }
   ],
   "source": [
    "fig, ax = plt.subplots(figsize=(16, 8))\n",
    "\n",
    "ax.bar(x=actor_x, height=actor_y)\n",
    "\n",
    "ax.set_xlabel('Actors')\n",
    "ax.set_ylabel('Number of Films')\n",
    "ax.set_title('Actors Appearing Only in Above-Average Earning Films')\n",
    "plt.xticks(rotation=45);"
   ]
  },
  {
   "cell_type": "markdown",
   "metadata": {},
   "source": [
    "# Synthesis"
   ]
  },
  {
   "cell_type": "code",
   "execution_count": 51,
   "metadata": {},
   "outputs": [],
   "source": [
    "perc_perf_writers = len(perfect_writers)/len(ranked_writers)*100\n",
    "perc_perf_dir = len(perfect_dir)/len(ranked_dir)*100\n",
    "perc_perf_actors = len(perfect_actors)/len(ranked_actors)*100"
   ]
  },
  {
   "cell_type": "code",
   "execution_count": 52,
   "metadata": {},
   "outputs": [],
   "source": [
    "syn_list_x = [\"Writers\", \"Directors\", \"Actors\"]\n",
    "syn_list_y = [perc_perf_writers, perc_perf_dir, perc_perf_actors]"
   ]
  },
  {
   "cell_type": "code",
   "execution_count": 53,
   "metadata": {},
   "outputs": [
    {
     "name": "stdout",
     "output_type": "stream",
     "text": [
      "C:\\Users\\drewh\\Documents\\Flatiron Documents\\Phase 1\\movie_studio_analysis\n"
     ]
    }
   ],
   "source": [
    "cd .."
   ]
  },
  {
   "cell_type": "code",
   "execution_count": 54,
   "metadata": {},
   "outputs": [
    {
     "name": "stdout",
     "output_type": "stream",
     "text": [
      "C:\\Users\\drewh\\Documents\\Flatiron Documents\\Phase 1\\movie_studio_analysis\\images\n"
     ]
    }
   ],
   "source": [
    "cd images"
   ]
  },
  {
   "cell_type": "code",
   "execution_count": 82,
   "metadata": {
    "scrolled": true
   },
   "outputs": [
    {
     "data": {
      "image/png": "[encoded data removed]",
      "text/plain": [
       "<Figure size 1152x576 with 1 Axes>"
      ]
     },
     "metadata": {
      "needs_background": "light"
     },
     "output_type": "display_data"
    }
   ],
   "source": [
    "fig, ax = plt.subplots(figsize=(16, 8))\n",
    "\n",
    "ax.bar(x=syn_list_x, height=syn_list_y, color=[\"darkgreen\", \"darkgreen\", \"darkgrey\"])\n",
    "ax.set_xlabel('Occupations', size=24)\n",
    "ax.set_ylabel('Percent', size=24)\n",
    "ax.set_title('Percentage of Persons with Only Above-Average-Earning Films', size=28)\n",
    "plt.xticks(size=18)\n",
    "plt.yticks(size=16)\n",
    "plt.savefig(\"writers_actors_directors\");"
   ]
  },
  {
   "cell_type": "code",
   "execution_count": null,
   "metadata": {},
   "outputs": [],
   "source": []
  }
 ],
 "metadata": {
  "kernelspec": {
   "display_name": "learn-env",
   "language": "python",
   "name": "learn-env"
  },
  "language_info": {
   "codemirror_mode": {
    "name": "ipython",
    "version": 3
   },
   "file_extension": ".py",
   "mimetype": "text/x-python",
   "name": "python",
   "nbconvert_exporter": "python",
   "pygments_lexer": "ipython3",
   "version": "3.8.5"
  }
 },
 "nbformat": 4,
 "nbformat_minor": 4
}
