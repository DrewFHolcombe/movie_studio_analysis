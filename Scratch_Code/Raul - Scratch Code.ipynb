{
 "cells": [
  {
   "cell_type": "code",
   "execution_count": 12,
   "metadata": {},
   "outputs": [],
   "source": [
    "import pandas as pd\n",
    "import numpy as np\n",
    "import matplotlib.pyplot as plt\n",
    "import seaborn as sns\n",
    "\n",
    "%matplotlib inline"
   ]
  },
  {
   "cell_type": "code",
   "execution_count": 22,
   "metadata": {},
   "outputs": [],
   "source": [
    "import json\n",
    "import csv"
   ]
  },
  {
   "cell_type": "code",
   "execution_count": 13,
   "metadata": {},
   "outputs": [
    {
     "ename": "SyntaxError",
     "evalue": "invalid syntax (<ipython-input-13-86a75290a066>, line 1)",
     "output_type": "error",
     "traceback": [
      "\u001b[0;36m  File \u001b[0;32m\"<ipython-input-13-86a75290a066>\"\u001b[0;36m, line \u001b[0;32m1\u001b[0m\n\u001b[0;31m    Contents:\u001b[0m\n\u001b[0m             ^\u001b[0m\n\u001b[0;31mSyntaxError\u001b[0m\u001b[0;31m:\u001b[0m invalid syntax\n"
     ]
    }
   ],
   "source": [
    "\"\"\"\"\"\"Contents:\n",
    "    bom.movie_gross.csv.gz\n",
    "    3386 rows, 5 columns\n",
    "    rows - individual films\n",
    "    Columns - title, studio, domestic gross, foreign gross, year\n",
    "    tmdp.movies.csv.gz\n",
    "    26517 rows, 10 columns\n",
    "    Rows - individual films\n",
    "    Columns - Unnamed: 0 (index duplicate), genre_ids, id, original_language, original_title, popularity, release_date, title, vote_average, vote_count\n",
    "    tn.movie_budgets.csv.gz\n",
    "    5782 rows, 6 columns\n",
    "    Rows - individual films\n",
    "    Columns - id, release_date, movie, production_budget, domestic_gross, worldwide_gross\n",
    "    rt.movie_info.tsv.gz\n",
    "    To open: pd.read_csv(\"./rt.movie_info.tsv.gz\", sep=\"\\t\")\n",
    "    1560 rows, 12 columns\n",
    "    Rows - individual films\n",
    "    Columns - id, synopsis, rating, genre, director, writer, theater_date, dvd_date, currency, box_office, runtime, studio\n",
    "    ./rt.reviews.tsv.gz\n",
    "    to open: pd.read_csv(\"./rt.reviews.tsv.gz\", sep=\"\\t\", encoding = 'unicode_escape')\n",
    "    54432 rows, 8 columns\n",
    "    Rows -\n",
    "    Columns - id, review, rating, fresh, critic, top_critic, publisher, data"
   ]
  },
  {
   "cell_type": "code",
   "execution_count": 21,
   "metadata": {},
   "outputs": [
    {
     "name": "stdout",
     "output_type": "stream",
     "text": [
      "LICENSE                            scratch code.ipynb\r\n",
      "TEMPLATE_README.md                 \u001b[34mzippedData\u001b[m\u001b[m/\r\n",
      "dsc-phase1-project-template.ipynb\r\n"
     ]
    }
   ],
   "source": [
    "ls"
   ]
  },
  {
   "cell_type": "code",
   "execution_count": 25,
   "metadata": {},
   "outputs": [
    {
     "name": "stdout",
     "output_type": "stream",
     "text": [
      "/Users/raulcassieltorresponce/Documents/Flatiron/1/movie_studio_analysis/zippedData\n"
     ]
    }
   ],
   "source": [
    "cd zippedData/\n"
   ]
  },
  {
   "cell_type": "code",
   "execution_count": 26,
   "metadata": {},
   "outputs": [
    {
     "name": "stdout",
     "output_type": "stream",
     "text": [
      "Untitled.ipynb           rt.movie_info.tsv.gz     tn.movie_budgets.csv.gz\r\n",
      "bom.movie_gross.csv.gz   rt.reviews.tsv.gz\r\n",
      "im.db.zip                tmdb.movies.csv.gz\r\n"
     ]
    }
   ],
   "source": [
    "ls\n"
   ]
  },
  {
   "cell_type": "code",
   "execution_count": null,
   "metadata": {},
   "outputs": [],
   "source": []
  }
 ],
 "metadata": {
  "kernelspec": {
   "display_name": "Python (learn-env)",
   "language": "python",
   "name": "learn-env"
  },
  "language_info": {
   "codemirror_mode": {
    "name": "ipython",
    "version": 3
   },
   "file_extension": ".py",
   "mimetype": "text/x-python",
   "name": "python",
   "nbconvert_exporter": "python",
   "pygments_lexer": "ipython3",
   "version": "3.8.5"
  }
 },
 "nbformat": 4,
 "nbformat_minor": 4
}
